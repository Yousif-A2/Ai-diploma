{
  "nbformat": 4,
  "nbformat_minor": 0,
  "metadata": {
    "colab": {
      "provenance": [],
      "gpuType": "T4",
      "include_colab_link": true
    },
    "kernelspec": {
      "name": "python3",
      "display_name": "Python 3"
    },
    "language_info": {
      "name": "python"
    },
    "accelerator": "GPU"
  },
  "cells": [
    {
      "cell_type": "markdown",
      "metadata": {
        "id": "view-in-github",
        "colab_type": "text"
      },
      "source": [
        "<a href=\"https://colab.research.google.com/github/Yousif-A2/Ai-diploma/blob/main/yousif.ipynb\" target=\"_parent\"><img src=\"https://colab.research.google.com/assets/colab-badge.svg\" alt=\"Open In Colab\"/></a>"
      ]
    },
    {
      "cell_type": "markdown",
      "source": [
        "# ✈️ Flight Delay and Cancellation\n",
        "\n",
        "---\n",
        "\n",
        "Analysis\n",
        "\n",
        "This notebook explores a dataset of U.S. flight delays and cancellations (2019–2023) to predict delays using machine learning with GPU acceleration."
      ],
      "metadata": {
        "id": "xXHMxJBXVFM4"
      }
    },
    {
      "cell_type": "markdown",
      "source": [
        "## 📑 Table of Contents\n",
        "1. [Setup](#setup)\n",
        "2. [Data Loading](#data-loading)\n",
        "3. [Exploratory Data Analysis](#exploratory-data-analysis)\n",
        "4. [Preprocessing](#preprocessing)\n",
        "5. [Modeling](#modeling)\n",
        "6. [Evaluation](#evaluation)"
      ],
      "metadata": {
        "id": "JbG9xxNh4pmY"
      }
    },
    {
      "cell_type": "markdown",
      "source": [
        "## 1. 🔧 Download Dataset"
      ],
      "metadata": {
        "id": "zYQ8U3MH4sdD"
      }
    },
    {
      "cell_type": "code",
      "source": [
        "!mkdir -p ~/.kaggle\n",
        "\n",
        "!cp /content/kaggle.json ~/.kaggle/\n",
        "\n",
        "!chmod 600 ~/.kaggle/kaggle.json\n",
        "\n",
        "# Download the dataset\n",
        "!kaggle datasets download patrickzel/flight-delay-and-cancellation-dataset-2019-2023\n",
        "\n",
        "# Unzip the downloaded file\n",
        "!unzip flight-delay-and-cancellation-dataset-2019-2023.zip\n",
        "\n",
        "# If you just want the specific CSV file mentioned in your link:\n",
        "!kaggle datasets download patrickzel/flight-delay-and-cancellation-dataset-2019-2023 -f flights_sample_3m.csv"
      ],
      "metadata": {
        "colab": {
          "base_uri": "https://localhost:8080/"
        },
        "id": "0B-HN2dUdkhW",
        "outputId": "00f98687-5221-49c9-95f6-a7213c630a3f"
      },
      "execution_count": 5,
      "outputs": [
        {
          "output_type": "stream",
          "name": "stdout",
          "text": [
            "Dataset URL: https://www.kaggle.com/datasets/patrickzel/flight-delay-and-cancellation-dataset-2019-2023\n",
            "License(s): other\n",
            "Archive:  flight-delay-and-cancellation-dataset-2019-2023.zip\n",
            "  inflating: dictionary.html         \n",
            "  inflating: flights_sample_3m.csv   \n",
            "Dataset URL: https://www.kaggle.com/datasets/patrickzel/flight-delay-and-cancellation-dataset-2019-2023\n",
            "License(s): other\n"
          ]
        }
      ]
    },
    {
      "cell_type": "code",
      "source": [
        "%load_ext cudf.pandas"
      ],
      "metadata": {
        "id": "YadqFItncJDv",
        "colab": {
          "base_uri": "https://localhost:8080/"
        },
        "outputId": "14c794e7-47e0-4cba-a7ee-967ff01d8e58"
      },
      "execution_count": 6,
      "outputs": [
        {
          "output_type": "stream",
          "name": "stdout",
          "text": [
            "The cudf.pandas extension is already loaded. To reload it, use:\n",
            "  %reload_ext cudf.pandas\n"
          ]
        }
      ]
    },
    {
      "cell_type": "code",
      "source": [
        "!pip install GPUtil"
      ],
      "metadata": {
        "colab": {
          "base_uri": "https://localhost:8080/"
        },
        "id": "T-GcBGUK7ppq",
        "outputId": "c565f40f-2aaf-4f5c-f2a9-d42e2521cf12"
      },
      "execution_count": 35,
      "outputs": [
        {
          "output_type": "stream",
          "name": "stdout",
          "text": [
            "Collecting GPUtil\n",
            "  Downloading GPUtil-1.4.0.tar.gz (5.5 kB)\n",
            "  Preparing metadata (setup.py) ... \u001b[?25l\u001b[?25hdone\n",
            "Building wheels for collected packages: GPUtil\n",
            "  Building wheel for GPUtil (setup.py) ... \u001b[?25l\u001b[?25hdone\n",
            "  Created wheel for GPUtil: filename=GPUtil-1.4.0-py3-none-any.whl size=7392 sha256=9e58df9ee662bbfd9732f59ddd9e9e8be4359a372f8040c4d14685672bd0b6f5\n",
            "  Stored in directory: /root/.cache/pip/wheels/2b/4d/8f/55fb4f7b9b591891e8d3f72977c4ec6c7763b39c19f0861595\n",
            "Successfully built GPUtil\n",
            "Installing collected packages: GPUtil\n",
            "Successfully installed GPUtil-1.4.0\n"
          ]
        }
      ]
    },
    {
      "cell_type": "code",
      "source": [
        "import pandas as pd\n",
        "import numpy as np\n",
        "import matplotlib.pyplot as plt\n",
        "from sklearn.model_selection import train_test_split\n",
        "import cuml\n",
        "from sklearn.metrics import classification_report, accuracy_score, confusion_matrix\n",
        "from sklearn.preprocessing import MinMaxScaler, StandardScaler\n",
        "import xgboost as xgb\n",
        "import seaborn as sns\n",
        "import time\n",
        "import GPUtil"
      ],
      "metadata": {
        "id": "v9I4nKronuLg"
      },
      "execution_count": 36,
      "outputs": []
    },
    {
      "cell_type": "markdown",
      "source": [
        "## 2. 📥 Data Loading"
      ],
      "metadata": {
        "id": "9fqc8Ey642wQ"
      }
    },
    {
      "cell_type": "code",
      "source": [
        "import zipfile\n",
        "with zipfile.ZipFile('/content/flight-delay-and-cancellation-dataset-2019-2023.zip', 'r') as zip_ref:\n",
        "    zip_ref.extractall()\n"
      ],
      "metadata": {
        "id": "Yu77CVe_mMFG"
      },
      "execution_count": 8,
      "outputs": []
    },
    {
      "cell_type": "code",
      "source": [
        "%%cudf.pandas.profile\n",
        "\n",
        "gdf = pd.read_csv('flights_sample_3m.csv')\n",
        "#\n",
        "\n",
        "# Display the first few rows\n",
        "print(\"\\nFirst 5 rows:\")\n",
        "gdf.head()"
      ],
      "metadata": {
        "colab": {
          "base_uri": "https://localhost:8080/",
          "height": 1000
        },
        "id": "cOgFIXHkj902",
        "outputId": "c81921d5-f140-457d-9b3d-7abfda45380b"
      },
      "execution_count": 9,
      "outputs": [
        {
          "output_type": "stream",
          "name": "stderr",
          "text": [
            "\n",
            "PYDEV DEBUGGER WARNING:\n",
            "sys.settrace() should not be used when the debugger is being used.\n",
            "This may cause the debugger to stop working correctly.\n",
            "If this is needed, please check: \n",
            "http://pydev.blogspot.com/2007/06/why-cant-pydev-debugger-work-with.html\n",
            "to see how to restore the debug tracing back correctly.\n",
            "Call Location:\n",
            "  File \"/usr/local/lib/python3.11/dist-packages/cudf/pandas/profiler.py\", line 97, in __enter__\n",
            "    sys.settrace(self._tracefunc)\n",
            "\n"
          ]
        },
        {
          "output_type": "stream",
          "name": "stdout",
          "text": [
            "\n",
            "First 5 rows:\n"
          ]
        },
        {
          "output_type": "execute_result",
          "data": {
            "text/plain": [
              "      FL_DATE                AIRLINE                AIRLINE_DOT AIRLINE_CODE  \\\n",
              "0  2019-01-09  United Air Lines Inc.  United Air Lines Inc.: UA           UA   \n",
              "1  2022-11-19   Delta Air Lines Inc.   Delta Air Lines Inc.: DL           DL   \n",
              "2  2022-07-22  United Air Lines Inc.  United Air Lines Inc.: UA           UA   \n",
              "3  2023-03-06   Delta Air Lines Inc.   Delta Air Lines Inc.: DL           DL   \n",
              "4  2020-02-23       Spirit Air Lines       Spirit Air Lines: NK           NK   \n",
              "\n",
              "   DOT_CODE  FL_NUMBER ORIGIN          ORIGIN_CITY DEST  \\\n",
              "0     19977       1562    FLL  Fort Lauderdale, FL  EWR   \n",
              "1     19790       1149    MSP      Minneapolis, MN  SEA   \n",
              "2     19977        459    DEN           Denver, CO  MSP   \n",
              "3     19790       2295    MSP      Minneapolis, MN  SFO   \n",
              "4     20416        407    MCO          Orlando, FL  DFW   \n",
              "\n",
              "               DEST_CITY  ...  DIVERTED  CRS_ELAPSED_TIME  ELAPSED_TIME  \\\n",
              "0             Newark, NJ  ...       0.0             186.0         176.0   \n",
              "1            Seattle, WA  ...       0.0             235.0         236.0   \n",
              "2        Minneapolis, MN  ...       0.0             118.0         112.0   \n",
              "3      San Francisco, CA  ...       0.0             260.0         285.0   \n",
              "4  Dallas/Fort Worth, TX  ...       0.0             181.0         182.0   \n",
              "\n",
              "   AIR_TIME  DISTANCE  DELAY_DUE_CARRIER DELAY_DUE_WEATHER DELAY_DUE_NAS  \\\n",
              "0     153.0    1065.0               <NA>              <NA>          <NA>   \n",
              "1     189.0    1399.0               <NA>              <NA>          <NA>   \n",
              "2      87.0     680.0               <NA>              <NA>          <NA>   \n",
              "3     249.0    1589.0                0.0               0.0          24.0   \n",
              "4     153.0     985.0               <NA>              <NA>          <NA>   \n",
              "\n",
              "  DELAY_DUE_SECURITY DELAY_DUE_LATE_AIRCRAFT  \n",
              "0               <NA>                    <NA>  \n",
              "1               <NA>                    <NA>  \n",
              "2               <NA>                    <NA>  \n",
              "3                0.0                     0.0  \n",
              "4               <NA>                    <NA>  \n",
              "\n",
              "[5 rows x 32 columns]"
            ],
            "text/html": [
              "<div>\n",
              "<style scoped>\n",
              "    .dataframe tbody tr th:only-of-type {\n",
              "        vertical-align: middle;\n",
              "    }\n",
              "\n",
              "    .dataframe tbody tr th {\n",
              "        vertical-align: top;\n",
              "    }\n",
              "\n",
              "    .dataframe thead th {\n",
              "        text-align: right;\n",
              "    }\n",
              "</style>\n",
              "<table border=\"1\" class=\"dataframe\">\n",
              "  <thead>\n",
              "    <tr style=\"text-align: right;\">\n",
              "      <th></th>\n",
              "      <th>FL_DATE</th>\n",
              "      <th>AIRLINE</th>\n",
              "      <th>AIRLINE_DOT</th>\n",
              "      <th>AIRLINE_CODE</th>\n",
              "      <th>DOT_CODE</th>\n",
              "      <th>FL_NUMBER</th>\n",
              "      <th>ORIGIN</th>\n",
              "      <th>ORIGIN_CITY</th>\n",
              "      <th>DEST</th>\n",
              "      <th>DEST_CITY</th>\n",
              "      <th>...</th>\n",
              "      <th>DIVERTED</th>\n",
              "      <th>CRS_ELAPSED_TIME</th>\n",
              "      <th>ELAPSED_TIME</th>\n",
              "      <th>AIR_TIME</th>\n",
              "      <th>DISTANCE</th>\n",
              "      <th>DELAY_DUE_CARRIER</th>\n",
              "      <th>DELAY_DUE_WEATHER</th>\n",
              "      <th>DELAY_DUE_NAS</th>\n",
              "      <th>DELAY_DUE_SECURITY</th>\n",
              "      <th>DELAY_DUE_LATE_AIRCRAFT</th>\n",
              "    </tr>\n",
              "  </thead>\n",
              "  <tbody>\n",
              "    <tr>\n",
              "      <th>0</th>\n",
              "      <td>2019-01-09</td>\n",
              "      <td>United Air Lines Inc.</td>\n",
              "      <td>United Air Lines Inc.: UA</td>\n",
              "      <td>UA</td>\n",
              "      <td>19977</td>\n",
              "      <td>1562</td>\n",
              "      <td>FLL</td>\n",
              "      <td>Fort Lauderdale, FL</td>\n",
              "      <td>EWR</td>\n",
              "      <td>Newark, NJ</td>\n",
              "      <td>...</td>\n",
              "      <td>0.0</td>\n",
              "      <td>186.0</td>\n",
              "      <td>176.0</td>\n",
              "      <td>153.0</td>\n",
              "      <td>1065.0</td>\n",
              "      <td>&lt;NA&gt;</td>\n",
              "      <td>&lt;NA&gt;</td>\n",
              "      <td>&lt;NA&gt;</td>\n",
              "      <td>&lt;NA&gt;</td>\n",
              "      <td>&lt;NA&gt;</td>\n",
              "    </tr>\n",
              "    <tr>\n",
              "      <th>1</th>\n",
              "      <td>2022-11-19</td>\n",
              "      <td>Delta Air Lines Inc.</td>\n",
              "      <td>Delta Air Lines Inc.: DL</td>\n",
              "      <td>DL</td>\n",
              "      <td>19790</td>\n",
              "      <td>1149</td>\n",
              "      <td>MSP</td>\n",
              "      <td>Minneapolis, MN</td>\n",
              "      <td>SEA</td>\n",
              "      <td>Seattle, WA</td>\n",
              "      <td>...</td>\n",
              "      <td>0.0</td>\n",
              "      <td>235.0</td>\n",
              "      <td>236.0</td>\n",
              "      <td>189.0</td>\n",
              "      <td>1399.0</td>\n",
              "      <td>&lt;NA&gt;</td>\n",
              "      <td>&lt;NA&gt;</td>\n",
              "      <td>&lt;NA&gt;</td>\n",
              "      <td>&lt;NA&gt;</td>\n",
              "      <td>&lt;NA&gt;</td>\n",
              "    </tr>\n",
              "    <tr>\n",
              "      <th>2</th>\n",
              "      <td>2022-07-22</td>\n",
              "      <td>United Air Lines Inc.</td>\n",
              "      <td>United Air Lines Inc.: UA</td>\n",
              "      <td>UA</td>\n",
              "      <td>19977</td>\n",
              "      <td>459</td>\n",
              "      <td>DEN</td>\n",
              "      <td>Denver, CO</td>\n",
              "      <td>MSP</td>\n",
              "      <td>Minneapolis, MN</td>\n",
              "      <td>...</td>\n",
              "      <td>0.0</td>\n",
              "      <td>118.0</td>\n",
              "      <td>112.0</td>\n",
              "      <td>87.0</td>\n",
              "      <td>680.0</td>\n",
              "      <td>&lt;NA&gt;</td>\n",
              "      <td>&lt;NA&gt;</td>\n",
              "      <td>&lt;NA&gt;</td>\n",
              "      <td>&lt;NA&gt;</td>\n",
              "      <td>&lt;NA&gt;</td>\n",
              "    </tr>\n",
              "    <tr>\n",
              "      <th>3</th>\n",
              "      <td>2023-03-06</td>\n",
              "      <td>Delta Air Lines Inc.</td>\n",
              "      <td>Delta Air Lines Inc.: DL</td>\n",
              "      <td>DL</td>\n",
              "      <td>19790</td>\n",
              "      <td>2295</td>\n",
              "      <td>MSP</td>\n",
              "      <td>Minneapolis, MN</td>\n",
              "      <td>SFO</td>\n",
              "      <td>San Francisco, CA</td>\n",
              "      <td>...</td>\n",
              "      <td>0.0</td>\n",
              "      <td>260.0</td>\n",
              "      <td>285.0</td>\n",
              "      <td>249.0</td>\n",
              "      <td>1589.0</td>\n",
              "      <td>0.0</td>\n",
              "      <td>0.0</td>\n",
              "      <td>24.0</td>\n",
              "      <td>0.0</td>\n",
              "      <td>0.0</td>\n",
              "    </tr>\n",
              "    <tr>\n",
              "      <th>4</th>\n",
              "      <td>2020-02-23</td>\n",
              "      <td>Spirit Air Lines</td>\n",
              "      <td>Spirit Air Lines: NK</td>\n",
              "      <td>NK</td>\n",
              "      <td>20416</td>\n",
              "      <td>407</td>\n",
              "      <td>MCO</td>\n",
              "      <td>Orlando, FL</td>\n",
              "      <td>DFW</td>\n",
              "      <td>Dallas/Fort Worth, TX</td>\n",
              "      <td>...</td>\n",
              "      <td>0.0</td>\n",
              "      <td>181.0</td>\n",
              "      <td>182.0</td>\n",
              "      <td>153.0</td>\n",
              "      <td>985.0</td>\n",
              "      <td>&lt;NA&gt;</td>\n",
              "      <td>&lt;NA&gt;</td>\n",
              "      <td>&lt;NA&gt;</td>\n",
              "      <td>&lt;NA&gt;</td>\n",
              "      <td>&lt;NA&gt;</td>\n",
              "    </tr>\n",
              "  </tbody>\n",
              "</table>\n",
              "<p>5 rows × 32 columns</p>\n",
              "</div>"
            ],
            "application/vnd.google.colaboratory.intrinsic+json": {
              "type": "dataframe"
            }
          },
          "metadata": {},
          "execution_count": 9
        },
        {
          "output_type": "stream",
          "name": "stderr",
          "text": [
            "\n",
            "PYDEV DEBUGGER WARNING:\n",
            "sys.settrace() should not be used when the debugger is being used.\n",
            "This may cause the debugger to stop working correctly.\n",
            "If this is needed, please check: \n",
            "http://pydev.blogspot.com/2007/06/why-cant-pydev-debugger-work-with.html\n",
            "to see how to restore the debug tracing back correctly.\n",
            "Call Location:\n",
            "  File \"/usr/local/lib/python3.11/dist-packages/cudf/pandas/profiler.py\", line 116, in __exit__\n",
            "    sys.settrace(self._oldtrace)\n",
            "\n"
          ]
        },
        {
          "output_type": "display_data",
          "data": {
            "text/plain": [
              "\u001b[3m                                                                                                        \u001b[0m\n",
              "\u001b[3m                                       Total time elapsed: 3.420 seconds                                \u001b[0m\n",
              "\u001b[3m                                     6 GPU function calls in 1.946 seconds                              \u001b[0m\n",
              "\u001b[3m                                     0 CPU function calls in 0.000 seconds                              \u001b[0m\n",
              "\u001b[3m                                                                                                        \u001b[0m\n",
              "\u001b[3m                                                     Stats                                              \u001b[0m\n",
              "\u001b[3m                                                                                                        \u001b[0m\n",
              "┏━━━━━━━━━━━━━━━━━━━━┳━━━━━━━━━━━━┳━━━━━━━━━━━━━┳━━━━━━━━━━━━━┳━━━━━━━━━━━━┳━━━━━━━━━━━━━┳━━━━━━━━━━━━━┓\n",
              "┃\u001b[1m \u001b[0m\u001b[1mFunction          \u001b[0m\u001b[1m \u001b[0m┃\u001b[1m \u001b[0m\u001b[1mGPU ncalls\u001b[0m\u001b[1m \u001b[0m┃\u001b[1m \u001b[0m\u001b[1mGPU cumtime\u001b[0m\u001b[1m \u001b[0m┃\u001b[1m \u001b[0m\u001b[1mGPU percall\u001b[0m\u001b[1m \u001b[0m┃\u001b[1m \u001b[0m\u001b[1mCPU ncalls\u001b[0m\u001b[1m \u001b[0m┃\u001b[1m \u001b[0m\u001b[1mCPU cumtime\u001b[0m\u001b[1m \u001b[0m┃\u001b[1m \u001b[0m\u001b[1mCPU percall\u001b[0m\u001b[1m \u001b[0m┃\n",
              "┡━━━━━━━━━━━━━━━━━━━━╇━━━━━━━━━━━━╇━━━━━━━━━━━━━╇━━━━━━━━━━━━━╇━━━━━━━━━━━━╇━━━━━━━━━━━━━╇━━━━━━━━━━━━━┩\n",
              "│ read_csv           │ 1          │ 1.130       │ 1.130       │ 0          │ 0.000       │ 0.000       │\n",
              "│ NDFrame.head       │ 1          │ 0.043       │ 0.043       │ 0          │ 0.000       │ 0.000       │\n",
              "│ DataFrame.__repr__ │ 1          │ 0.769       │ 0.769       │ 0          │ 0.000       │ 0.000       │\n",
              "│ DataFrame.__len__  │ 1          │ 0.000       │ 0.000       │ 0          │ 0.000       │ 0.000       │\n",
              "│ DataFrame          │ 1          │ 0.000       │ 0.000       │ 0          │ 0.000       │ 0.000       │\n",
              "│ Index.__len__      │ 1          │ 0.003       │ 0.003       │ 0          │ 0.000       │ 0.000       │\n",
              "└────────────────────┴────────────┴─────────────┴─────────────┴────────────┴─────────────┴─────────────┘\n"
            ],
            "text/html": [
              "<pre style=\"white-space:pre;overflow-x:auto;line-height:normal;font-family:Menlo,'DejaVu Sans Mono',consolas,'Courier New',monospace\"><span style=\"font-style: italic\">                                                                                                        </span>\n",
              "<span style=\"font-style: italic\">                                       Total time elapsed: 3.420 seconds                                </span>\n",
              "<span style=\"font-style: italic\">                                     6 GPU function calls in 1.946 seconds                              </span>\n",
              "<span style=\"font-style: italic\">                                     0 CPU function calls in 0.000 seconds                              </span>\n",
              "<span style=\"font-style: italic\">                                                                                                        </span>\n",
              "<span style=\"font-style: italic\">                                                     Stats                                              </span>\n",
              "<span style=\"font-style: italic\">                                                                                                        </span>\n",
              "┏━━━━━━━━━━━━━━━━━━━━┳━━━━━━━━━━━━┳━━━━━━━━━━━━━┳━━━━━━━━━━━━━┳━━━━━━━━━━━━┳━━━━━━━━━━━━━┳━━━━━━━━━━━━━┓\n",
              "┃<span style=\"font-weight: bold\"> Function           </span>┃<span style=\"font-weight: bold\"> GPU ncalls </span>┃<span style=\"font-weight: bold\"> GPU cumtime </span>┃<span style=\"font-weight: bold\"> GPU percall </span>┃<span style=\"font-weight: bold\"> CPU ncalls </span>┃<span style=\"font-weight: bold\"> CPU cumtime </span>┃<span style=\"font-weight: bold\"> CPU percall </span>┃\n",
              "┡━━━━━━━━━━━━━━━━━━━━╇━━━━━━━━━━━━╇━━━━━━━━━━━━━╇━━━━━━━━━━━━━╇━━━━━━━━━━━━╇━━━━━━━━━━━━━╇━━━━━━━━━━━━━┩\n",
              "│ read_csv           │ 1          │ 1.130       │ 1.130       │ 0          │ 0.000       │ 0.000       │\n",
              "│ NDFrame.head       │ 1          │ 0.043       │ 0.043       │ 0          │ 0.000       │ 0.000       │\n",
              "│ DataFrame.__repr__ │ 1          │ 0.769       │ 0.769       │ 0          │ 0.000       │ 0.000       │\n",
              "│ DataFrame.__len__  │ 1          │ 0.000       │ 0.000       │ 0          │ 0.000       │ 0.000       │\n",
              "│ DataFrame          │ 1          │ 0.000       │ 0.000       │ 0          │ 0.000       │ 0.000       │\n",
              "│ Index.__len__      │ 1          │ 0.003       │ 0.003       │ 0          │ 0.000       │ 0.000       │\n",
              "└────────────────────┴────────────┴─────────────┴─────────────┴────────────┴─────────────┴─────────────┘\n",
              "</pre>\n"
            ]
          },
          "metadata": {}
        }
      ]
    },
    {
      "cell_type": "markdown",
      "source": [
        "## 3. 📊 Exploratory Data Analysis"
      ],
      "metadata": {
        "id": "7SsqkYan5CER"
      }
    },
    {
      "cell_type": "markdown",
      "source": [
        "Let's understand the structure, types, and initial insights from the dataset."
      ],
      "metadata": {
        "id": "M7Lw1Eej5Gyw"
      }
    },
    {
      "cell_type": "code",
      "source": [
        "gdf.shape"
      ],
      "metadata": {
        "colab": {
          "base_uri": "https://localhost:8080/"
        },
        "id": "v1Ofm9TtlGqy",
        "outputId": "790ca0d3-f5c7-4f1c-becf-5f98c7538ed0"
      },
      "execution_count": 10,
      "outputs": [
        {
          "output_type": "execute_result",
          "data": {
            "text/plain": [
              "(3000000, 32)"
            ]
          },
          "metadata": {},
          "execution_count": 10
        }
      ]
    },
    {
      "cell_type": "code",
      "source": [
        "%%cudf.pandas.profile\n",
        "\n",
        "print(\"\\nColumn names:\")\n",
        "gdf.columns.tolist()"
      ],
      "metadata": {
        "colab": {
          "base_uri": "https://localhost:8080/",
          "height": 904
        },
        "id": "9AE6TDXooK_4",
        "outputId": "f9b5a1fa-49b8-4003-c864-da9c5715a6d0"
      },
      "execution_count": 11,
      "outputs": [
        {
          "output_type": "stream",
          "name": "stdout",
          "text": [
            "\n",
            "Column names:\n"
          ]
        },
        {
          "output_type": "execute_result",
          "data": {
            "text/plain": [
              "['FL_DATE',\n",
              " 'AIRLINE',\n",
              " 'AIRLINE_DOT',\n",
              " 'AIRLINE_CODE',\n",
              " 'DOT_CODE',\n",
              " 'FL_NUMBER',\n",
              " 'ORIGIN',\n",
              " 'ORIGIN_CITY',\n",
              " 'DEST',\n",
              " 'DEST_CITY',\n",
              " 'CRS_DEP_TIME',\n",
              " 'DEP_TIME',\n",
              " 'DEP_DELAY',\n",
              " 'TAXI_OUT',\n",
              " 'WHEELS_OFF',\n",
              " 'WHEELS_ON',\n",
              " 'TAXI_IN',\n",
              " 'CRS_ARR_TIME',\n",
              " 'ARR_TIME',\n",
              " 'ARR_DELAY',\n",
              " 'CANCELLED',\n",
              " 'CANCELLATION_CODE',\n",
              " 'DIVERTED',\n",
              " 'CRS_ELAPSED_TIME',\n",
              " 'ELAPSED_TIME',\n",
              " 'AIR_TIME',\n",
              " 'DISTANCE',\n",
              " 'DELAY_DUE_CARRIER',\n",
              " 'DELAY_DUE_WEATHER',\n",
              " 'DELAY_DUE_NAS',\n",
              " 'DELAY_DUE_SECURITY',\n",
              " 'DELAY_DUE_LATE_AIRCRAFT']"
            ]
          },
          "metadata": {},
          "execution_count": 11
        },
        {
          "output_type": "display_data",
          "data": {
            "text/plain": [
              "\u001b[3m                                                                                                          \u001b[0m\n",
              "\u001b[3m                                        Total time elapsed: 0.744 seconds                                 \u001b[0m\n",
              "\u001b[3m                                      0 GPU function calls in 0.000 seconds                               \u001b[0m\n",
              "\u001b[3m                                      1 CPU function calls in 0.005 seconds                               \u001b[0m\n",
              "\u001b[3m                                                                                                          \u001b[0m\n",
              "\u001b[3m                                                      Stats                                               \u001b[0m\n",
              "\u001b[3m                                                                                                          \u001b[0m\n",
              "┏━━━━━━━━━━━━━━━━━━━━━━┳━━━━━━━━━━━━┳━━━━━━━━━━━━━┳━━━━━━━━━━━━━┳━━━━━━━━━━━━┳━━━━━━━━━━━━━┳━━━━━━━━━━━━━┓\n",
              "┃\u001b[1m \u001b[0m\u001b[1mFunction            \u001b[0m\u001b[1m \u001b[0m┃\u001b[1m \u001b[0m\u001b[1mGPU ncalls\u001b[0m\u001b[1m \u001b[0m┃\u001b[1m \u001b[0m\u001b[1mGPU cumtime\u001b[0m\u001b[1m \u001b[0m┃\u001b[1m \u001b[0m\u001b[1mGPU percall\u001b[0m\u001b[1m \u001b[0m┃\u001b[1m \u001b[0m\u001b[1mCPU ncalls\u001b[0m\u001b[1m \u001b[0m┃\u001b[1m \u001b[0m\u001b[1mCPU cumtime\u001b[0m\u001b[1m \u001b[0m┃\u001b[1m \u001b[0m\u001b[1mCPU percall\u001b[0m\u001b[1m \u001b[0m┃\n",
              "┡━━━━━━━━━━━━━━━━━━━━━━╇━━━━━━━━━━━━╇━━━━━━━━━━━━━╇━━━━━━━━━━━━━╇━━━━━━━━━━━━╇━━━━━━━━━━━━━╇━━━━━━━━━━━━━┩\n",
              "│ IndexOpsMixin.tolist │ 0          │ 0.000       │ 0.000       │ 1          │ 0.005       │ 0.005       │\n",
              "└──────────────────────┴────────────┴─────────────┴─────────────┴────────────┴─────────────┴─────────────┘\n"
            ],
            "text/html": [
              "<pre style=\"white-space:pre;overflow-x:auto;line-height:normal;font-family:Menlo,'DejaVu Sans Mono',consolas,'Courier New',monospace\"><span style=\"font-style: italic\">                                                                                                          </span>\n",
              "<span style=\"font-style: italic\">                                        Total time elapsed: 0.744 seconds                                 </span>\n",
              "<span style=\"font-style: italic\">                                      0 GPU function calls in 0.000 seconds                               </span>\n",
              "<span style=\"font-style: italic\">                                      1 CPU function calls in 0.005 seconds                               </span>\n",
              "<span style=\"font-style: italic\">                                                                                                          </span>\n",
              "<span style=\"font-style: italic\">                                                      Stats                                               </span>\n",
              "<span style=\"font-style: italic\">                                                                                                          </span>\n",
              "┏━━━━━━━━━━━━━━━━━━━━━━┳━━━━━━━━━━━━┳━━━━━━━━━━━━━┳━━━━━━━━━━━━━┳━━━━━━━━━━━━┳━━━━━━━━━━━━━┳━━━━━━━━━━━━━┓\n",
              "┃<span style=\"font-weight: bold\"> Function             </span>┃<span style=\"font-weight: bold\"> GPU ncalls </span>┃<span style=\"font-weight: bold\"> GPU cumtime </span>┃<span style=\"font-weight: bold\"> GPU percall </span>┃<span style=\"font-weight: bold\"> CPU ncalls </span>┃<span style=\"font-weight: bold\"> CPU cumtime </span>┃<span style=\"font-weight: bold\"> CPU percall </span>┃\n",
              "┡━━━━━━━━━━━━━━━━━━━━━━╇━━━━━━━━━━━━╇━━━━━━━━━━━━━╇━━━━━━━━━━━━━╇━━━━━━━━━━━━╇━━━━━━━━━━━━━╇━━━━━━━━━━━━━┩\n",
              "│ IndexOpsMixin.tolist │ 0          │ 0.000       │ 0.000       │ 1          │ 0.005       │ 0.005       │\n",
              "└──────────────────────┴────────────┴─────────────┴─────────────┴────────────┴─────────────┴─────────────┘\n",
              "</pre>\n"
            ]
          },
          "metadata": {}
        },
        {
          "output_type": "display_data",
          "data": {
            "text/plain": [
              "Not all pandas operations ran on the GPU. The following functions required CPU fallback:\n",
              "\n",
              "- IndexOpsMixin.tolist\n",
              "\n"
            ],
            "text/html": [
              "<pre style=\"white-space:pre;overflow-x:auto;line-height:normal;font-family:Menlo,'DejaVu Sans Mono',consolas,'Courier New',monospace\">Not all pandas operations ran on the GPU. The following functions required CPU fallback:\n",
              "\n",
              "- IndexOpsMixin.tolist\n",
              "\n",
              "</pre>\n"
            ]
          },
          "metadata": {}
        },
        {
          "output_type": "display_data",
          "data": {
            "text/plain": [
              "To request GPU support for any of these functions, please file a Github issue here: \n",
              "\u001b]8;id=861642;https://github.com/rapidsai/cudf/issues/new?assignees=&labels=%3F+-+Needs+Triage%2C+feature+request&projects=&template=pandas_function_request.md&title=%5BFEA%5D\u001b\\\u001b[4;94mhttps://github.com/rapidsai/cudf/issues/new/choose\u001b[0m\u001b]8;;\u001b\\\u001b[4;94m.\u001b[0m\n"
            ],
            "text/html": [
              "<pre style=\"white-space:pre;overflow-x:auto;line-height:normal;font-family:Menlo,'DejaVu Sans Mono',consolas,'Courier New',monospace\">To request GPU support for any of these functions, please file a Github issue here: \n",
              "<a href=\"https://github.com/rapidsai/cudf/issues/new?assignees=&labels=%3F+-+Needs+Triage%2C+feature+request&projects=&template=pandas_function_request.md&title=%5BFEA%5D\" target=\"_blank\"><span style=\"color: #0000ff; text-decoration-color: #0000ff; text-decoration: underline\">https://github.com/rapidsai/cudf/issues/new/choose</span></a><span style=\"color: #0000ff; text-decoration-color: #0000ff; text-decoration: underline\">.</span>\n",
              "</pre>\n"
            ]
          },
          "metadata": {}
        }
      ]
    },
    {
      "cell_type": "code",
      "source": [
        "%%cudf.pandas.profile\n",
        "\n",
        "print(\"\\nData types:\")\n",
        "for col in gdf.columns:\n",
        "    print(f\"{col}: {gdf[col].dtype}\")"
      ],
      "metadata": {
        "colab": {
          "base_uri": "https://localhost:8080/",
          "height": 805
        },
        "collapsed": true,
        "id": "6_acVfaat2C4",
        "outputId": "c21444ff-5321-4198-8cd6-163880d7df22"
      },
      "execution_count": 12,
      "outputs": [
        {
          "output_type": "stream",
          "name": "stdout",
          "text": [
            "\n",
            "Data types:\n",
            "FL_DATE: object\n",
            "AIRLINE: object\n",
            "AIRLINE_DOT: object\n",
            "AIRLINE_CODE: object\n",
            "DOT_CODE: int64\n",
            "FL_NUMBER: int64\n",
            "ORIGIN: object\n",
            "ORIGIN_CITY: object\n",
            "DEST: object\n",
            "DEST_CITY: object\n",
            "CRS_DEP_TIME: int64\n",
            "DEP_TIME: float64\n",
            "DEP_DELAY: float64\n",
            "TAXI_OUT: float64\n",
            "WHEELS_OFF: float64\n",
            "WHEELS_ON: float64\n",
            "TAXI_IN: float64\n",
            "CRS_ARR_TIME: int64\n",
            "ARR_TIME: float64\n",
            "ARR_DELAY: float64\n",
            "CANCELLED: float64\n",
            "CANCELLATION_CODE: object\n",
            "DIVERTED: float64\n",
            "CRS_ELAPSED_TIME: float64\n",
            "ELAPSED_TIME: float64\n",
            "AIR_TIME: float64\n",
            "DISTANCE: float64\n",
            "DELAY_DUE_CARRIER: float64\n",
            "DELAY_DUE_WEATHER: float64\n",
            "DELAY_DUE_NAS: float64\n",
            "DELAY_DUE_SECURITY: float64\n",
            "DELAY_DUE_LATE_AIRCRAFT: float64\n"
          ]
        },
        {
          "output_type": "display_data",
          "data": {
            "text/plain": [
              "\u001b[3m                                                                                                           \u001b[0m\n",
              "\u001b[3m                                         Total time elapsed: 0.679 seconds                                 \u001b[0m\n",
              "\u001b[3m                                      32 GPU function calls in 0.093 seconds                               \u001b[0m\n",
              "\u001b[3m                                       0 CPU function calls in 0.000 seconds                               \u001b[0m\n",
              "\u001b[3m                                                                                                           \u001b[0m\n",
              "\u001b[3m                                                       Stats                                               \u001b[0m\n",
              "\u001b[3m                                                                                                           \u001b[0m\n",
              "┏━━━━━━━━━━━━━━━━━━━━━━━┳━━━━━━━━━━━━┳━━━━━━━━━━━━━┳━━━━━━━━━━━━━┳━━━━━━━━━━━━┳━━━━━━━━━━━━━┳━━━━━━━━━━━━━┓\n",
              "┃\u001b[1m \u001b[0m\u001b[1mFunction             \u001b[0m\u001b[1m \u001b[0m┃\u001b[1m \u001b[0m\u001b[1mGPU ncalls\u001b[0m\u001b[1m \u001b[0m┃\u001b[1m \u001b[0m\u001b[1mGPU cumtime\u001b[0m\u001b[1m \u001b[0m┃\u001b[1m \u001b[0m\u001b[1mGPU percall\u001b[0m\u001b[1m \u001b[0m┃\u001b[1m \u001b[0m\u001b[1mCPU ncalls\u001b[0m\u001b[1m \u001b[0m┃\u001b[1m \u001b[0m\u001b[1mCPU cumtime\u001b[0m\u001b[1m \u001b[0m┃\u001b[1m \u001b[0m\u001b[1mCPU percall\u001b[0m\u001b[1m \u001b[0m┃\n",
              "┡━━━━━━━━━━━━━━━━━━━━━━━╇━━━━━━━━━━━━╇━━━━━━━━━━━━━╇━━━━━━━━━━━━━╇━━━━━━━━━━━━╇━━━━━━━━━━━━━╇━━━━━━━━━━━━━┩\n",
              "│ DataFrame.__getitem__ │ 32         │ 0.093       │ 0.003       │ 0          │ 0.000       │ 0.000       │\n",
              "└───────────────────────┴────────────┴─────────────┴─────────────┴────────────┴─────────────┴─────────────┘\n"
            ],
            "text/html": [
              "<pre style=\"white-space:pre;overflow-x:auto;line-height:normal;font-family:Menlo,'DejaVu Sans Mono',consolas,'Courier New',monospace\"><span style=\"font-style: italic\">                                                                                                           </span>\n",
              "<span style=\"font-style: italic\">                                         Total time elapsed: 0.679 seconds                                 </span>\n",
              "<span style=\"font-style: italic\">                                      32 GPU function calls in 0.093 seconds                               </span>\n",
              "<span style=\"font-style: italic\">                                       0 CPU function calls in 0.000 seconds                               </span>\n",
              "<span style=\"font-style: italic\">                                                                                                           </span>\n",
              "<span style=\"font-style: italic\">                                                       Stats                                               </span>\n",
              "<span style=\"font-style: italic\">                                                                                                           </span>\n",
              "┏━━━━━━━━━━━━━━━━━━━━━━━┳━━━━━━━━━━━━┳━━━━━━━━━━━━━┳━━━━━━━━━━━━━┳━━━━━━━━━━━━┳━━━━━━━━━━━━━┳━━━━━━━━━━━━━┓\n",
              "┃<span style=\"font-weight: bold\"> Function              </span>┃<span style=\"font-weight: bold\"> GPU ncalls </span>┃<span style=\"font-weight: bold\"> GPU cumtime </span>┃<span style=\"font-weight: bold\"> GPU percall </span>┃<span style=\"font-weight: bold\"> CPU ncalls </span>┃<span style=\"font-weight: bold\"> CPU cumtime </span>┃<span style=\"font-weight: bold\"> CPU percall </span>┃\n",
              "┡━━━━━━━━━━━━━━━━━━━━━━━╇━━━━━━━━━━━━╇━━━━━━━━━━━━━╇━━━━━━━━━━━━━╇━━━━━━━━━━━━╇━━━━━━━━━━━━━╇━━━━━━━━━━━━━┩\n",
              "│ DataFrame.__getitem__ │ 32         │ 0.093       │ 0.003       │ 0          │ 0.000       │ 0.000       │\n",
              "└───────────────────────┴────────────┴─────────────┴─────────────┴────────────┴─────────────┴─────────────┘\n",
              "</pre>\n"
            ]
          },
          "metadata": {}
        }
      ]
    },
    {
      "cell_type": "code",
      "source": [
        "%%cudf.pandas.profile\n",
        "\n",
        "# Summary statistics\n",
        "print(\"\\nSummary statistics:\")\n",
        "gdf.describe()"
      ],
      "metadata": {
        "colab": {
          "base_uri": "https://localhost:8080/",
          "height": 632
        },
        "id": "g7OwEIoXoXbn",
        "outputId": "5f463810-f01d-4442-ea9e-2c58e97a386c"
      },
      "execution_count": 13,
      "outputs": [
        {
          "output_type": "stream",
          "name": "stdout",
          "text": [
            "\n",
            "Summary statistics:\n"
          ]
        },
        {
          "output_type": "execute_result",
          "data": {
            "text/plain": [
              "           DOT_CODE     FL_NUMBER  CRS_DEP_TIME      DEP_TIME     DEP_DELAY  \\\n",
              "count  3.000000e+06  3.000000e+06  3.000000e+06  2.922385e+06  2.922356e+06   \n",
              "mean   1.997629e+04  2.511536e+03  1.327062e+03  1.329776e+03  1.012333e+01   \n",
              "std    3.772846e+02  1.747258e+03  4.858789e+02  4.993101e+02  4.925183e+01   \n",
              "min    1.939300e+04  1.000000e+00  1.000000e+00  1.000000e+00 -9.000000e+01   \n",
              "25%    1.979000e+04  1.051000e+03  9.150000e+02  9.160000e+02 -6.000000e+00   \n",
              "50%    1.993000e+04  2.152000e+03  1.320000e+03  1.323000e+03 -2.000000e+00   \n",
              "75%    2.036800e+04  3.797000e+03  1.730000e+03  1.739000e+03  6.000000e+00   \n",
              "max    2.045200e+04  9.562000e+03  2.359000e+03  2.400000e+03  2.966000e+03   \n",
              "\n",
              "           TAXI_OUT    WHEELS_OFF     WHEELS_ON       TAXI_IN  CRS_ARR_TIME  \\\n",
              "count  2.921194e+06  2.921194e+06  2.920056e+06  2.920056e+06  3.000000e+06   \n",
              "mean   1.664305e+01  1.352361e+03  1.462500e+03  7.678982e+00  1.490561e+03   \n",
              "std    9.192901e+00  5.008727e+02  5.272368e+02  6.269639e+00  5.115476e+02   \n",
              "min    1.000000e+00  1.000000e+00  1.000000e+00  1.000000e+00  1.000000e+00   \n",
              "25%    1.100000e+01  9.310000e+02  1.049000e+03  4.000000e+00  1.107000e+03   \n",
              "50%    1.400000e+01  1.336000e+03  1.501000e+03  6.000000e+00  1.516000e+03   \n",
              "75%    1.900000e+01  1.752000e+03  1.908000e+03  9.000000e+00  1.919000e+03   \n",
              "max    1.840000e+02  2.400000e+03  2.400000e+03  2.490000e+02  2.400000e+03   \n",
              "\n",
              "       ...      DIVERTED  CRS_ELAPSED_TIME  ELAPSED_TIME      AIR_TIME  \\\n",
              "count  ...  3.000000e+06      2.999986e+06  2.913802e+06  2.913802e+06   \n",
              "mean   ...  2.352000e-03      1.422758e+02  1.366205e+02  1.123108e+02   \n",
              "std    ...  4.844000e-02      7.155669e+01  7.167582e+01  6.975484e+01   \n",
              "min    ...  0.000000e+00      1.000000e+00  1.500000e+01  8.000000e+00   \n",
              "25%    ...  0.000000e+00      9.000000e+01  8.400000e+01  6.100000e+01   \n",
              "50%    ...  0.000000e+00      1.250000e+02  1.200000e+02  9.500000e+01   \n",
              "75%    ...  0.000000e+00      1.720000e+02  1.670000e+02  1.420000e+02   \n",
              "max    ...  1.000000e+00      7.050000e+02  7.390000e+02  6.920000e+02   \n",
              "\n",
              "           DISTANCE  DELAY_DUE_CARRIER  DELAY_DUE_WEATHER  DELAY_DUE_NAS  \\\n",
              "count  3.000000e+06      533863.000000      533863.000000  533863.000000   \n",
              "mean   8.093616e+02          24.759086           3.985260      13.164728   \n",
              "std    5.878939e+02          71.771845          32.410796      33.161122   \n",
              "min    2.900000e+01           0.000000           0.000000       0.000000   \n",
              "25%    3.770000e+02           0.000000           0.000000       0.000000   \n",
              "50%    6.510000e+02           4.000000           0.000000       0.000000   \n",
              "75%    1.046000e+03          23.000000           0.000000      17.000000   \n",
              "max    5.812000e+03        2934.000000        1653.000000    1741.000000   \n",
              "\n",
              "       DELAY_DUE_SECURITY  DELAY_DUE_LATE_AIRCRAFT  \n",
              "count       533863.000000            533863.000000  \n",
              "mean             0.145931                25.471282  \n",
              "std              3.582053                55.766892  \n",
              "min              0.000000                 0.000000  \n",
              "25%              0.000000                 0.000000  \n",
              "50%              0.000000                 0.000000  \n",
              "75%              0.000000                30.000000  \n",
              "max           1185.000000              2557.000000  \n",
              "\n",
              "[8 rows x 23 columns]"
            ],
            "text/html": [
              "<div>\n",
              "<style scoped>\n",
              "    .dataframe tbody tr th:only-of-type {\n",
              "        vertical-align: middle;\n",
              "    }\n",
              "\n",
              "    .dataframe tbody tr th {\n",
              "        vertical-align: top;\n",
              "    }\n",
              "\n",
              "    .dataframe thead th {\n",
              "        text-align: right;\n",
              "    }\n",
              "</style>\n",
              "<table border=\"1\" class=\"dataframe\">\n",
              "  <thead>\n",
              "    <tr style=\"text-align: right;\">\n",
              "      <th></th>\n",
              "      <th>DOT_CODE</th>\n",
              "      <th>FL_NUMBER</th>\n",
              "      <th>CRS_DEP_TIME</th>\n",
              "      <th>DEP_TIME</th>\n",
              "      <th>DEP_DELAY</th>\n",
              "      <th>TAXI_OUT</th>\n",
              "      <th>WHEELS_OFF</th>\n",
              "      <th>WHEELS_ON</th>\n",
              "      <th>TAXI_IN</th>\n",
              "      <th>CRS_ARR_TIME</th>\n",
              "      <th>...</th>\n",
              "      <th>DIVERTED</th>\n",
              "      <th>CRS_ELAPSED_TIME</th>\n",
              "      <th>ELAPSED_TIME</th>\n",
              "      <th>AIR_TIME</th>\n",
              "      <th>DISTANCE</th>\n",
              "      <th>DELAY_DUE_CARRIER</th>\n",
              "      <th>DELAY_DUE_WEATHER</th>\n",
              "      <th>DELAY_DUE_NAS</th>\n",
              "      <th>DELAY_DUE_SECURITY</th>\n",
              "      <th>DELAY_DUE_LATE_AIRCRAFT</th>\n",
              "    </tr>\n",
              "  </thead>\n",
              "  <tbody>\n",
              "    <tr>\n",
              "      <th>count</th>\n",
              "      <td>3.000000e+06</td>\n",
              "      <td>3.000000e+06</td>\n",
              "      <td>3.000000e+06</td>\n",
              "      <td>2.922385e+06</td>\n",
              "      <td>2.922356e+06</td>\n",
              "      <td>2.921194e+06</td>\n",
              "      <td>2.921194e+06</td>\n",
              "      <td>2.920056e+06</td>\n",
              "      <td>2.920056e+06</td>\n",
              "      <td>3.000000e+06</td>\n",
              "      <td>...</td>\n",
              "      <td>3.000000e+06</td>\n",
              "      <td>2.999986e+06</td>\n",
              "      <td>2.913802e+06</td>\n",
              "      <td>2.913802e+06</td>\n",
              "      <td>3.000000e+06</td>\n",
              "      <td>533863.000000</td>\n",
              "      <td>533863.000000</td>\n",
              "      <td>533863.000000</td>\n",
              "      <td>533863.000000</td>\n",
              "      <td>533863.000000</td>\n",
              "    </tr>\n",
              "    <tr>\n",
              "      <th>mean</th>\n",
              "      <td>1.997629e+04</td>\n",
              "      <td>2.511536e+03</td>\n",
              "      <td>1.327062e+03</td>\n",
              "      <td>1.329776e+03</td>\n",
              "      <td>1.012333e+01</td>\n",
              "      <td>1.664305e+01</td>\n",
              "      <td>1.352361e+03</td>\n",
              "      <td>1.462500e+03</td>\n",
              "      <td>7.678982e+00</td>\n",
              "      <td>1.490561e+03</td>\n",
              "      <td>...</td>\n",
              "      <td>2.352000e-03</td>\n",
              "      <td>1.422758e+02</td>\n",
              "      <td>1.366205e+02</td>\n",
              "      <td>1.123108e+02</td>\n",
              "      <td>8.093616e+02</td>\n",
              "      <td>24.759086</td>\n",
              "      <td>3.985260</td>\n",
              "      <td>13.164728</td>\n",
              "      <td>0.145931</td>\n",
              "      <td>25.471282</td>\n",
              "    </tr>\n",
              "    <tr>\n",
              "      <th>std</th>\n",
              "      <td>3.772846e+02</td>\n",
              "      <td>1.747258e+03</td>\n",
              "      <td>4.858789e+02</td>\n",
              "      <td>4.993101e+02</td>\n",
              "      <td>4.925183e+01</td>\n",
              "      <td>9.192901e+00</td>\n",
              "      <td>5.008727e+02</td>\n",
              "      <td>5.272368e+02</td>\n",
              "      <td>6.269639e+00</td>\n",
              "      <td>5.115476e+02</td>\n",
              "      <td>...</td>\n",
              "      <td>4.844000e-02</td>\n",
              "      <td>7.155669e+01</td>\n",
              "      <td>7.167582e+01</td>\n",
              "      <td>6.975484e+01</td>\n",
              "      <td>5.878939e+02</td>\n",
              "      <td>71.771845</td>\n",
              "      <td>32.410796</td>\n",
              "      <td>33.161122</td>\n",
              "      <td>3.582053</td>\n",
              "      <td>55.766892</td>\n",
              "    </tr>\n",
              "    <tr>\n",
              "      <th>min</th>\n",
              "      <td>1.939300e+04</td>\n",
              "      <td>1.000000e+00</td>\n",
              "      <td>1.000000e+00</td>\n",
              "      <td>1.000000e+00</td>\n",
              "      <td>-9.000000e+01</td>\n",
              "      <td>1.000000e+00</td>\n",
              "      <td>1.000000e+00</td>\n",
              "      <td>1.000000e+00</td>\n",
              "      <td>1.000000e+00</td>\n",
              "      <td>1.000000e+00</td>\n",
              "      <td>...</td>\n",
              "      <td>0.000000e+00</td>\n",
              "      <td>1.000000e+00</td>\n",
              "      <td>1.500000e+01</td>\n",
              "      <td>8.000000e+00</td>\n",
              "      <td>2.900000e+01</td>\n",
              "      <td>0.000000</td>\n",
              "      <td>0.000000</td>\n",
              "      <td>0.000000</td>\n",
              "      <td>0.000000</td>\n",
              "      <td>0.000000</td>\n",
              "    </tr>\n",
              "    <tr>\n",
              "      <th>25%</th>\n",
              "      <td>1.979000e+04</td>\n",
              "      <td>1.051000e+03</td>\n",
              "      <td>9.150000e+02</td>\n",
              "      <td>9.160000e+02</td>\n",
              "      <td>-6.000000e+00</td>\n",
              "      <td>1.100000e+01</td>\n",
              "      <td>9.310000e+02</td>\n",
              "      <td>1.049000e+03</td>\n",
              "      <td>4.000000e+00</td>\n",
              "      <td>1.107000e+03</td>\n",
              "      <td>...</td>\n",
              "      <td>0.000000e+00</td>\n",
              "      <td>9.000000e+01</td>\n",
              "      <td>8.400000e+01</td>\n",
              "      <td>6.100000e+01</td>\n",
              "      <td>3.770000e+02</td>\n",
              "      <td>0.000000</td>\n",
              "      <td>0.000000</td>\n",
              "      <td>0.000000</td>\n",
              "      <td>0.000000</td>\n",
              "      <td>0.000000</td>\n",
              "    </tr>\n",
              "    <tr>\n",
              "      <th>50%</th>\n",
              "      <td>1.993000e+04</td>\n",
              "      <td>2.152000e+03</td>\n",
              "      <td>1.320000e+03</td>\n",
              "      <td>1.323000e+03</td>\n",
              "      <td>-2.000000e+00</td>\n",
              "      <td>1.400000e+01</td>\n",
              "      <td>1.336000e+03</td>\n",
              "      <td>1.501000e+03</td>\n",
              "      <td>6.000000e+00</td>\n",
              "      <td>1.516000e+03</td>\n",
              "      <td>...</td>\n",
              "      <td>0.000000e+00</td>\n",
              "      <td>1.250000e+02</td>\n",
              "      <td>1.200000e+02</td>\n",
              "      <td>9.500000e+01</td>\n",
              "      <td>6.510000e+02</td>\n",
              "      <td>4.000000</td>\n",
              "      <td>0.000000</td>\n",
              "      <td>0.000000</td>\n",
              "      <td>0.000000</td>\n",
              "      <td>0.000000</td>\n",
              "    </tr>\n",
              "    <tr>\n",
              "      <th>75%</th>\n",
              "      <td>2.036800e+04</td>\n",
              "      <td>3.797000e+03</td>\n",
              "      <td>1.730000e+03</td>\n",
              "      <td>1.739000e+03</td>\n",
              "      <td>6.000000e+00</td>\n",
              "      <td>1.900000e+01</td>\n",
              "      <td>1.752000e+03</td>\n",
              "      <td>1.908000e+03</td>\n",
              "      <td>9.000000e+00</td>\n",
              "      <td>1.919000e+03</td>\n",
              "      <td>...</td>\n",
              "      <td>0.000000e+00</td>\n",
              "      <td>1.720000e+02</td>\n",
              "      <td>1.670000e+02</td>\n",
              "      <td>1.420000e+02</td>\n",
              "      <td>1.046000e+03</td>\n",
              "      <td>23.000000</td>\n",
              "      <td>0.000000</td>\n",
              "      <td>17.000000</td>\n",
              "      <td>0.000000</td>\n",
              "      <td>30.000000</td>\n",
              "    </tr>\n",
              "    <tr>\n",
              "      <th>max</th>\n",
              "      <td>2.045200e+04</td>\n",
              "      <td>9.562000e+03</td>\n",
              "      <td>2.359000e+03</td>\n",
              "      <td>2.400000e+03</td>\n",
              "      <td>2.966000e+03</td>\n",
              "      <td>1.840000e+02</td>\n",
              "      <td>2.400000e+03</td>\n",
              "      <td>2.400000e+03</td>\n",
              "      <td>2.490000e+02</td>\n",
              "      <td>2.400000e+03</td>\n",
              "      <td>...</td>\n",
              "      <td>1.000000e+00</td>\n",
              "      <td>7.050000e+02</td>\n",
              "      <td>7.390000e+02</td>\n",
              "      <td>6.920000e+02</td>\n",
              "      <td>5.812000e+03</td>\n",
              "      <td>2934.000000</td>\n",
              "      <td>1653.000000</td>\n",
              "      <td>1741.000000</td>\n",
              "      <td>1185.000000</td>\n",
              "      <td>2557.000000</td>\n",
              "    </tr>\n",
              "  </tbody>\n",
              "</table>\n",
              "<p>8 rows × 23 columns</p>\n",
              "</div>"
            ],
            "application/vnd.google.colaboratory.intrinsic+json": {
              "type": "dataframe"
            }
          },
          "metadata": {},
          "execution_count": 13
        },
        {
          "output_type": "display_data",
          "data": {
            "text/plain": [
              "\u001b[3m                                                                                                        \u001b[0m\n",
              "\u001b[3m                                       Total time elapsed: 6.591 seconds                                \u001b[0m\n",
              "\u001b[3m                                     4 GPU function calls in 5.331 seconds                              \u001b[0m\n",
              "\u001b[3m                                     0 CPU function calls in 0.000 seconds                              \u001b[0m\n",
              "\u001b[3m                                                                                                        \u001b[0m\n",
              "\u001b[3m                                                     Stats                                              \u001b[0m\n",
              "\u001b[3m                                                                                                        \u001b[0m\n",
              "┏━━━━━━━━━━━━━━━━━━━━┳━━━━━━━━━━━━┳━━━━━━━━━━━━━┳━━━━━━━━━━━━━┳━━━━━━━━━━━━┳━━━━━━━━━━━━━┳━━━━━━━━━━━━━┓\n",
              "┃\u001b[1m \u001b[0m\u001b[1mFunction          \u001b[0m\u001b[1m \u001b[0m┃\u001b[1m \u001b[0m\u001b[1mGPU ncalls\u001b[0m\u001b[1m \u001b[0m┃\u001b[1m \u001b[0m\u001b[1mGPU cumtime\u001b[0m\u001b[1m \u001b[0m┃\u001b[1m \u001b[0m\u001b[1mGPU percall\u001b[0m\u001b[1m \u001b[0m┃\u001b[1m \u001b[0m\u001b[1mCPU ncalls\u001b[0m\u001b[1m \u001b[0m┃\u001b[1m \u001b[0m\u001b[1mCPU cumtime\u001b[0m\u001b[1m \u001b[0m┃\u001b[1m \u001b[0m\u001b[1mCPU percall\u001b[0m\u001b[1m \u001b[0m┃\n",
              "┡━━━━━━━━━━━━━━━━━━━━╇━━━━━━━━━━━━╇━━━━━━━━━━━━━╇━━━━━━━━━━━━━╇━━━━━━━━━━━━╇━━━━━━━━━━━━━╇━━━━━━━━━━━━━┩\n",
              "│ NDFrame.describe   │ 1          │ 5.014       │ 5.014       │ 0          │ 0.000       │ 0.000       │\n",
              "│ DataFrame.__repr__ │ 1          │ 0.314       │ 0.314       │ 0          │ 0.000       │ 0.000       │\n",
              "│ DataFrame.__len__  │ 1          │ 0.000       │ 0.000       │ 0          │ 0.000       │ 0.000       │\n",
              "│ Index.__len__      │ 1          │ 0.003       │ 0.003       │ 0          │ 0.000       │ 0.000       │\n",
              "└────────────────────┴────────────┴─────────────┴─────────────┴────────────┴─────────────┴─────────────┘\n"
            ],
            "text/html": [
              "<pre style=\"white-space:pre;overflow-x:auto;line-height:normal;font-family:Menlo,'DejaVu Sans Mono',consolas,'Courier New',monospace\"><span style=\"font-style: italic\">                                                                                                        </span>\n",
              "<span style=\"font-style: italic\">                                       Total time elapsed: 6.591 seconds                                </span>\n",
              "<span style=\"font-style: italic\">                                     4 GPU function calls in 5.331 seconds                              </span>\n",
              "<span style=\"font-style: italic\">                                     0 CPU function calls in 0.000 seconds                              </span>\n",
              "<span style=\"font-style: italic\">                                                                                                        </span>\n",
              "<span style=\"font-style: italic\">                                                     Stats                                              </span>\n",
              "<span style=\"font-style: italic\">                                                                                                        </span>\n",
              "┏━━━━━━━━━━━━━━━━━━━━┳━━━━━━━━━━━━┳━━━━━━━━━━━━━┳━━━━━━━━━━━━━┳━━━━━━━━━━━━┳━━━━━━━━━━━━━┳━━━━━━━━━━━━━┓\n",
              "┃<span style=\"font-weight: bold\"> Function           </span>┃<span style=\"font-weight: bold\"> GPU ncalls </span>┃<span style=\"font-weight: bold\"> GPU cumtime </span>┃<span style=\"font-weight: bold\"> GPU percall </span>┃<span style=\"font-weight: bold\"> CPU ncalls </span>┃<span style=\"font-weight: bold\"> CPU cumtime </span>┃<span style=\"font-weight: bold\"> CPU percall </span>┃\n",
              "┡━━━━━━━━━━━━━━━━━━━━╇━━━━━━━━━━━━╇━━━━━━━━━━━━━╇━━━━━━━━━━━━━╇━━━━━━━━━━━━╇━━━━━━━━━━━━━╇━━━━━━━━━━━━━┩\n",
              "│ NDFrame.describe   │ 1          │ 5.014       │ 5.014       │ 0          │ 0.000       │ 0.000       │\n",
              "│ DataFrame.__repr__ │ 1          │ 0.314       │ 0.314       │ 0          │ 0.000       │ 0.000       │\n",
              "│ DataFrame.__len__  │ 1          │ 0.000       │ 0.000       │ 0          │ 0.000       │ 0.000       │\n",
              "│ Index.__len__      │ 1          │ 0.003       │ 0.003       │ 0          │ 0.000       │ 0.000       │\n",
              "└────────────────────┴────────────┴─────────────┴─────────────┴────────────┴─────────────┴─────────────┘\n",
              "</pre>\n"
            ]
          },
          "metadata": {}
        }
      ]
    },
    {
      "cell_type": "code",
      "source": [
        "%%cudf.pandas.profile\n",
        "\n",
        "#  Delay statistics by airline\n",
        "if 'AIRLINE' in gdf.columns and 'ARR_DELAY' in gdf.columns:\n",
        "    avg_delay_by_airline = gdf.groupby('AIRLINE')['ARR_DELAY'].mean().sort_values(ascending=False)\n",
        "    print(\"\\nAverage arrival delay by airline (minutes):\")\n",
        "    print(avg_delay_by_airline)"
      ],
      "metadata": {
        "colab": {
          "base_uri": "https://localhost:8080/",
          "height": 679
        },
        "id": "dtRN4CjIohLn",
        "outputId": "03589cc5-b20d-4a77-d51c-74b9922c3008"
      },
      "execution_count": 14,
      "outputs": [
        {
          "output_type": "stream",
          "name": "stdout",
          "text": [
            "\n",
            "Average arrival delay by airline (minutes):\n",
            "AIRLINE\n",
            "Allegiant Air                         13.284601\n",
            "JetBlue Airways                       12.276125\n",
            "Frontier Airlines Inc.                11.100429\n",
            "ExpressJet Airlines LLC d/b/a aha!    10.031976\n",
            "Spirit Air Lines                       8.029485\n",
            "Mesa Airlines Inc.                     7.309810\n",
            "American Airlines Inc.                 6.661229\n",
            "United Air Lines Inc.                  5.035985\n",
            "SkyWest Airlines Inc.                  4.023311\n",
            "PSA Airlines Inc.                      3.928655\n",
            "Hawaiian Airlines Inc.                 3.894757\n",
            "Envoy Air                              3.278914\n",
            "Southwest Airlines Co.                 3.269796\n",
            "Horizon Air                            2.376242\n",
            "Alaska Airlines Inc.                   1.097900\n",
            "Delta Air Lines Inc.                   1.085079\n",
            "Republic Airline                       0.590176\n",
            "Endeavor Air Inc.                     -1.258539\n",
            "Name: ARR_DELAY, dtype: float64\n"
          ]
        },
        {
          "output_type": "display_data",
          "data": {
            "text/plain": [
              "\u001b[3m                                                                                                                  \u001b[0m\n",
              "\u001b[3m                                            Total time elapsed: 1.470 seconds                                     \u001b[0m\n",
              "\u001b[3m                                          7 GPU function calls in 0.427 seconds                                   \u001b[0m\n",
              "\u001b[3m                                          0 CPU function calls in 0.000 seconds                                   \u001b[0m\n",
              "\u001b[3m                                                                                                                  \u001b[0m\n",
              "\u001b[3m                                                          Stats                                                   \u001b[0m\n",
              "\u001b[3m                                                                                                                  \u001b[0m\n",
              "┏━━━━━━━━━━━━━━━━━━━━━━━━━━━━━━┳━━━━━━━━━━━━┳━━━━━━━━━━━━━┳━━━━━━━━━━━━━┳━━━━━━━━━━━━┳━━━━━━━━━━━━━┳━━━━━━━━━━━━━┓\n",
              "┃\u001b[1m \u001b[0m\u001b[1mFunction                    \u001b[0m\u001b[1m \u001b[0m┃\u001b[1m \u001b[0m\u001b[1mGPU ncalls\u001b[0m\u001b[1m \u001b[0m┃\u001b[1m \u001b[0m\u001b[1mGPU cumtime\u001b[0m\u001b[1m \u001b[0m┃\u001b[1m \u001b[0m\u001b[1mGPU percall\u001b[0m\u001b[1m \u001b[0m┃\u001b[1m \u001b[0m\u001b[1mCPU ncalls\u001b[0m\u001b[1m \u001b[0m┃\u001b[1m \u001b[0m\u001b[1mCPU cumtime\u001b[0m\u001b[1m \u001b[0m┃\u001b[1m \u001b[0m\u001b[1mCPU percall\u001b[0m\u001b[1m \u001b[0m┃\n",
              "┡━━━━━━━━━━━━━━━━━━━━━━━━━━━━━━╇━━━━━━━━━━━━╇━━━━━━━━━━━━━╇━━━━━━━━━━━━━╇━━━━━━━━━━━━╇━━━━━━━━━━━━━╇━━━━━━━━━━━━━┩\n",
              "│ Index.__contains__           │ 2          │ 0.151       │ 0.075       │ 0          │ 0.000       │ 0.000       │\n",
              "│ DataFrame.groupby            │ 1          │ 0.001       │ 0.001       │ 0          │ 0.000       │ 0.000       │\n",
              "│ DataFrameGroupBy.__getitem__ │ 1          │ 0.015       │ 0.015       │ 0          │ 0.000       │ 0.000       │\n",
              "│ GroupBy.mean                 │ 1          │ 0.200       │ 0.200       │ 0          │ 0.000       │ 0.000       │\n",
              "│ Series.sort_values           │ 1          │ 0.038       │ 0.038       │ 0          │ 0.000       │ 0.000       │\n",
              "│ object.__str__               │ 1          │ 0.022       │ 0.022       │ 0          │ 0.000       │ 0.000       │\n",
              "└──────────────────────────────┴────────────┴─────────────┴─────────────┴────────────┴─────────────┴─────────────┘\n"
            ],
            "text/html": [
              "<pre style=\"white-space:pre;overflow-x:auto;line-height:normal;font-family:Menlo,'DejaVu Sans Mono',consolas,'Courier New',monospace\"><span style=\"font-style: italic\">                                                                                                                  </span>\n",
              "<span style=\"font-style: italic\">                                            Total time elapsed: 1.470 seconds                                     </span>\n",
              "<span style=\"font-style: italic\">                                          7 GPU function calls in 0.427 seconds                                   </span>\n",
              "<span style=\"font-style: italic\">                                          0 CPU function calls in 0.000 seconds                                   </span>\n",
              "<span style=\"font-style: italic\">                                                                                                                  </span>\n",
              "<span style=\"font-style: italic\">                                                          Stats                                                   </span>\n",
              "<span style=\"font-style: italic\">                                                                                                                  </span>\n",
              "┏━━━━━━━━━━━━━━━━━━━━━━━━━━━━━━┳━━━━━━━━━━━━┳━━━━━━━━━━━━━┳━━━━━━━━━━━━━┳━━━━━━━━━━━━┳━━━━━━━━━━━━━┳━━━━━━━━━━━━━┓\n",
              "┃<span style=\"font-weight: bold\"> Function                     </span>┃<span style=\"font-weight: bold\"> GPU ncalls </span>┃<span style=\"font-weight: bold\"> GPU cumtime </span>┃<span style=\"font-weight: bold\"> GPU percall </span>┃<span style=\"font-weight: bold\"> CPU ncalls </span>┃<span style=\"font-weight: bold\"> CPU cumtime </span>┃<span style=\"font-weight: bold\"> CPU percall </span>┃\n",
              "┡━━━━━━━━━━━━━━━━━━━━━━━━━━━━━━╇━━━━━━━━━━━━╇━━━━━━━━━━━━━╇━━━━━━━━━━━━━╇━━━━━━━━━━━━╇━━━━━━━━━━━━━╇━━━━━━━━━━━━━┩\n",
              "│ Index.__contains__           │ 2          │ 0.151       │ 0.075       │ 0          │ 0.000       │ 0.000       │\n",
              "│ DataFrame.groupby            │ 1          │ 0.001       │ 0.001       │ 0          │ 0.000       │ 0.000       │\n",
              "│ DataFrameGroupBy.__getitem__ │ 1          │ 0.015       │ 0.015       │ 0          │ 0.000       │ 0.000       │\n",
              "│ GroupBy.mean                 │ 1          │ 0.200       │ 0.200       │ 0          │ 0.000       │ 0.000       │\n",
              "│ Series.sort_values           │ 1          │ 0.038       │ 0.038       │ 0          │ 0.000       │ 0.000       │\n",
              "│ object.__str__               │ 1          │ 0.022       │ 0.022       │ 0          │ 0.000       │ 0.000       │\n",
              "└──────────────────────────────┴────────────┴─────────────┴─────────────┴────────────┴─────────────┴─────────────┘\n",
              "</pre>\n"
            ]
          },
          "metadata": {}
        }
      ]
    },
    {
      "cell_type": "code",
      "source": [
        "%%cudf.pandas.profile\n",
        "\n",
        "\n",
        "# Sample visualization: Distribution of flight delays\n",
        "if 'ARR_DELAY' in gdf.columns:\n",
        "    plt.figure(figsize=(10, 6))\n",
        "    plt.hist(gdf['ARR_DELAY'].dropna(), bins=50, range=(-30, 120))\n",
        "    plt.title('Distribution of Arrival Delays')\n",
        "    plt.xlabel('Delay (minutes)')\n",
        "    plt.ylabel('Number of Flights')\n",
        "    plt.axvline(x=0, color='r', linestyle='--')\n",
        "    plt.show()"
      ],
      "metadata": {
        "colab": {
          "base_uri": "https://localhost:8080/",
          "height": 878
        },
        "id": "hHJgeDOuoqw3",
        "outputId": "99e928b8-3dc9-40a7-a68c-d5be23142c94"
      },
      "execution_count": 15,
      "outputs": [
        {
          "output_type": "display_data",
          "data": {
            "text/plain": [
              "<Figure size 1000x600 with 1 Axes>"
            ],
            "image/png": "[encoded data removed]"
          },
          "metadata": {}
        },
        {
          "output_type": "display_data",
          "data": {
            "text/plain": [
              "\u001b[3m                                                                                                            \u001b[0m\n",
              "\u001b[3m                                         Total time elapsed: 3.206 seconds                                  \u001b[0m\n",
              "\u001b[3m                                       11 GPU function calls in 0.081 seconds                               \u001b[0m\n",
              "\u001b[3m                                       0 CPU function calls in 0.000 seconds                                \u001b[0m\n",
              "\u001b[3m                                                                                                            \u001b[0m\n",
              "\u001b[3m                                                       Stats                                                \u001b[0m\n",
              "\u001b[3m                                                                                                            \u001b[0m\n",
              "┏━━━━━━━━━━━━━━━━━━━━━━━━┳━━━━━━━━━━━━┳━━━━━━━━━━━━━┳━━━━━━━━━━━━━┳━━━━━━━━━━━━┳━━━━━━━━━━━━━┳━━━━━━━━━━━━━┓\n",
              "┃\u001b[1m \u001b[0m\u001b[1mFunction              \u001b[0m\u001b[1m \u001b[0m┃\u001b[1m \u001b[0m\u001b[1mGPU ncalls\u001b[0m\u001b[1m \u001b[0m┃\u001b[1m \u001b[0m\u001b[1mGPU cumtime\u001b[0m\u001b[1m \u001b[0m┃\u001b[1m \u001b[0m\u001b[1mGPU percall\u001b[0m\u001b[1m \u001b[0m┃\u001b[1m \u001b[0m\u001b[1mCPU ncalls\u001b[0m\u001b[1m \u001b[0m┃\u001b[1m \u001b[0m\u001b[1mCPU cumtime\u001b[0m\u001b[1m \u001b[0m┃\u001b[1m \u001b[0m\u001b[1mCPU percall\u001b[0m\u001b[1m \u001b[0m┃\n",
              "┡━━━━━━━━━━━━━━━━━━━━━━━━╇━━━━━━━━━━━━╇━━━━━━━━━━━━━╇━━━━━━━━━━━━━╇━━━━━━━━━━━━╇━━━━━━━━━━━━━╇━━━━━━━━━━━━━┩\n",
              "│ Index.__contains__     │ 1          │ 0.008       │ 0.008       │ 0          │ 0.000       │ 0.000       │\n",
              "│ DataFrame.__getitem__  │ 1          │ 0.009       │ 0.009       │ 0          │ 0.000       │ 0.000       │\n",
              "│ Series.dropna          │ 1          │ 0.009       │ 0.009       │ 0          │ 0.000       │ 0.000       │\n",
              "│ IndexOpsMixin.to_numpy │ 1          │ 0.026       │ 0.026       │ 0          │ 0.000       │ 0.000       │\n",
              "│ ndarray                │ 3          │ 0.001       │ 0.000       │ 0          │ 0.000       │ 0.000       │\n",
              "│ ndarray.__len__        │ 2          │ 0.006       │ 0.003       │ 0          │ 0.000       │ 0.000       │\n",
              "│ ndarray.__getitem__    │ 1          │ 0.000       │ 0.000       │ 0          │ 0.000       │ 0.000       │\n",
              "│ ndarray.ravel          │ 1          │ 0.022       │ 0.022       │ 0          │ 0.000       │ 0.000       │\n",
              "└────────────────────────┴────────────┴─────────────┴─────────────┴────────────┴─────────────┴─────────────┘\n"
            ],
            "text/html": [
              "<pre style=\"white-space:pre;overflow-x:auto;line-height:normal;font-family:Menlo,'DejaVu Sans Mono',consolas,'Courier New',monospace\"><span style=\"font-style: italic\">                                                                                                            </span>\n",
              "<span style=\"font-style: italic\">                                         Total time elapsed: 3.206 seconds                                  </span>\n",
              "<span style=\"font-style: italic\">                                       11 GPU function calls in 0.081 seconds                               </span>\n",
              "<span style=\"font-style: italic\">                                       0 CPU function calls in 0.000 seconds                                </span>\n",
              "<span style=\"font-style: italic\">                                                                                                            </span>\n",
              "<span style=\"font-style: italic\">                                                       Stats                                                </span>\n",
              "<span style=\"font-style: italic\">                                                                                                            </span>\n",
              "┏━━━━━━━━━━━━━━━━━━━━━━━━┳━━━━━━━━━━━━┳━━━━━━━━━━━━━┳━━━━━━━━━━━━━┳━━━━━━━━━━━━┳━━━━━━━━━━━━━┳━━━━━━━━━━━━━┓\n",
              "┃<span style=\"font-weight: bold\"> Function               </span>┃<span style=\"font-weight: bold\"> GPU ncalls </span>┃<span style=\"font-weight: bold\"> GPU cumtime </span>┃<span style=\"font-weight: bold\"> GPU percall </span>┃<span style=\"font-weight: bold\"> CPU ncalls </span>┃<span style=\"font-weight: bold\"> CPU cumtime </span>┃<span style=\"font-weight: bold\"> CPU percall </span>┃\n",
              "┡━━━━━━━━━━━━━━━━━━━━━━━━╇━━━━━━━━━━━━╇━━━━━━━━━━━━━╇━━━━━━━━━━━━━╇━━━━━━━━━━━━╇━━━━━━━━━━━━━╇━━━━━━━━━━━━━┩\n",
              "│ Index.__contains__     │ 1          │ 0.008       │ 0.008       │ 0          │ 0.000       │ 0.000       │\n",
              "│ DataFrame.__getitem__  │ 1          │ 0.009       │ 0.009       │ 0          │ 0.000       │ 0.000       │\n",
              "│ Series.dropna          │ 1          │ 0.009       │ 0.009       │ 0          │ 0.000       │ 0.000       │\n",
              "│ IndexOpsMixin.to_numpy │ 1          │ 0.026       │ 0.026       │ 0          │ 0.000       │ 0.000       │\n",
              "│ ndarray                │ 3          │ 0.001       │ 0.000       │ 0          │ 0.000       │ 0.000       │\n",
              "│ ndarray.__len__        │ 2          │ 0.006       │ 0.003       │ 0          │ 0.000       │ 0.000       │\n",
              "│ ndarray.__getitem__    │ 1          │ 0.000       │ 0.000       │ 0          │ 0.000       │ 0.000       │\n",
              "│ ndarray.ravel          │ 1          │ 0.022       │ 0.022       │ 0          │ 0.000       │ 0.000       │\n",
              "└────────────────────────┴────────────┴─────────────┴─────────────┴────────────┴─────────────┴─────────────┘\n",
              "</pre>\n"
            ]
          },
          "metadata": {}
        }
      ]
    },
    {
      "cell_type": "code",
      "source": [
        "%%cudf.pandas.profile\n",
        "\n",
        "if 'ARR_DELAY' in gdf.columns:\n",
        "    mean_delay = gdf['ARR_DELAY'].mean()\n",
        "    gdf['ARR_DELAY'].fillna(mean_delay, inplace=True)"
      ],
      "metadata": {
        "id": "18Rg8XZt3aNr",
        "colab": {
          "base_uri": "https://localhost:8080/",
          "height": 265
        },
        "outputId": "4d884854-5ee5-44b5-aac1-2617223b2d03"
      },
      "execution_count": 16,
      "outputs": [
        {
          "output_type": "display_data",
          "data": {
            "text/plain": [
              "\u001b[3m                                                                                                           \u001b[0m\n",
              "\u001b[3m                                         Total time elapsed: 0.410 seconds                                 \u001b[0m\n",
              "\u001b[3m                                       5 GPU function calls in 0.051 seconds                               \u001b[0m\n",
              "\u001b[3m                                       0 CPU function calls in 0.000 seconds                               \u001b[0m\n",
              "\u001b[3m                                                                                                           \u001b[0m\n",
              "\u001b[3m                                                       Stats                                               \u001b[0m\n",
              "\u001b[3m                                                                                                           \u001b[0m\n",
              "┏━━━━━━━━━━━━━━━━━━━━━━━┳━━━━━━━━━━━━┳━━━━━━━━━━━━━┳━━━━━━━━━━━━━┳━━━━━━━━━━━━┳━━━━━━━━━━━━━┳━━━━━━━━━━━━━┓\n",
              "┃\u001b[1m \u001b[0m\u001b[1mFunction             \u001b[0m\u001b[1m \u001b[0m┃\u001b[1m \u001b[0m\u001b[1mGPU ncalls\u001b[0m\u001b[1m \u001b[0m┃\u001b[1m \u001b[0m\u001b[1mGPU cumtime\u001b[0m\u001b[1m \u001b[0m┃\u001b[1m \u001b[0m\u001b[1mGPU percall\u001b[0m\u001b[1m \u001b[0m┃\u001b[1m \u001b[0m\u001b[1mCPU ncalls\u001b[0m\u001b[1m \u001b[0m┃\u001b[1m \u001b[0m\u001b[1mCPU cumtime\u001b[0m\u001b[1m \u001b[0m┃\u001b[1m \u001b[0m\u001b[1mCPU percall\u001b[0m\u001b[1m \u001b[0m┃\n",
              "┡━━━━━━━━━━━━━━━━━━━━━━━╇━━━━━━━━━━━━╇━━━━━━━━━━━━━╇━━━━━━━━━━━━━╇━━━━━━━━━━━━╇━━━━━━━━━━━━━╇━━━━━━━━━━━━━┩\n",
              "│ Index.__contains__    │ 1          │ 0.008       │ 0.008       │ 0          │ 0.000       │ 0.000       │\n",
              "│ DataFrame.__getitem__ │ 2          │ 0.004       │ 0.002       │ 0          │ 0.000       │ 0.000       │\n",
              "│ Series.mean           │ 1          │ 0.017       │ 0.017       │ 0          │ 0.000       │ 0.000       │\n",
              "│ NDFrame.fillna        │ 1          │ 0.022       │ 0.022       │ 0          │ 0.000       │ 0.000       │\n",
              "└───────────────────────┴────────────┴─────────────┴─────────────┴────────────┴─────────────┴─────────────┘\n"
            ],
            "text/html": [
              "<pre style=\"white-space:pre;overflow-x:auto;line-height:normal;font-family:Menlo,'DejaVu Sans Mono',consolas,'Courier New',monospace\"><span style=\"font-style: italic\">                                                                                                           </span>\n",
              "<span style=\"font-style: italic\">                                         Total time elapsed: 0.410 seconds                                 </span>\n",
              "<span style=\"font-style: italic\">                                       5 GPU function calls in 0.051 seconds                               </span>\n",
              "<span style=\"font-style: italic\">                                       0 CPU function calls in 0.000 seconds                               </span>\n",
              "<span style=\"font-style: italic\">                                                                                                           </span>\n",
              "<span style=\"font-style: italic\">                                                       Stats                                               </span>\n",
              "<span style=\"font-style: italic\">                                                                                                           </span>\n",
              "┏━━━━━━━━━━━━━━━━━━━━━━━┳━━━━━━━━━━━━┳━━━━━━━━━━━━━┳━━━━━━━━━━━━━┳━━━━━━━━━━━━┳━━━━━━━━━━━━━┳━━━━━━━━━━━━━┓\n",
              "┃<span style=\"font-weight: bold\"> Function              </span>┃<span style=\"font-weight: bold\"> GPU ncalls </span>┃<span style=\"font-weight: bold\"> GPU cumtime </span>┃<span style=\"font-weight: bold\"> GPU percall </span>┃<span style=\"font-weight: bold\"> CPU ncalls </span>┃<span style=\"font-weight: bold\"> CPU cumtime </span>┃<span style=\"font-weight: bold\"> CPU percall </span>┃\n",
              "┡━━━━━━━━━━━━━━━━━━━━━━━╇━━━━━━━━━━━━╇━━━━━━━━━━━━━╇━━━━━━━━━━━━━╇━━━━━━━━━━━━╇━━━━━━━━━━━━━╇━━━━━━━━━━━━━┩\n",
              "│ Index.__contains__    │ 1          │ 0.008       │ 0.008       │ 0          │ 0.000       │ 0.000       │\n",
              "│ DataFrame.__getitem__ │ 2          │ 0.004       │ 0.002       │ 0          │ 0.000       │ 0.000       │\n",
              "│ Series.mean           │ 1          │ 0.017       │ 0.017       │ 0          │ 0.000       │ 0.000       │\n",
              "│ NDFrame.fillna        │ 1          │ 0.022       │ 0.022       │ 0          │ 0.000       │ 0.000       │\n",
              "└───────────────────────┴────────────┴─────────────┴─────────────┴────────────┴─────────────┴─────────────┘\n",
              "</pre>\n"
            ]
          },
          "metadata": {}
        }
      ]
    },
    {
      "cell_type": "code",
      "source": [
        "%%cudf.pandas.profile\n",
        "\n",
        "gdf['is_delayed'] = (gdf['ARR_DELAY'] > 15).astype(int)\n",
        "print(gdf['is_delayed'])"
      ],
      "metadata": {
        "colab": {
          "base_uri": "https://localhost:8080/",
          "height": 489
        },
        "id": "ttCyVcF4yht6",
        "outputId": "2bf54e75-06ba-4554-80ad-e3236f6aed85"
      },
      "execution_count": 17,
      "outputs": [
        {
          "output_type": "stream",
          "name": "stdout",
          "text": [
            "0          0\n",
            "1          0\n",
            "2          0\n",
            "3          1\n",
            "4          0\n",
            "          ..\n",
            "2999995    0\n",
            "2999996    0\n",
            "2999997    1\n",
            "2999998    0\n",
            "2999999    0\n",
            "Name: is_delayed, Length: 3000000, dtype: int64\n"
          ]
        },
        {
          "output_type": "display_data",
          "data": {
            "text/plain": [
              "\u001b[3m                                                                                                           \u001b[0m\n",
              "\u001b[3m                                         Total time elapsed: 0.624 seconds                                 \u001b[0m\n",
              "\u001b[3m                                       6 GPU function calls in 0.093 seconds                               \u001b[0m\n",
              "\u001b[3m                                       0 CPU function calls in 0.000 seconds                               \u001b[0m\n",
              "\u001b[3m                                                                                                           \u001b[0m\n",
              "\u001b[3m                                                       Stats                                               \u001b[0m\n",
              "\u001b[3m                                                                                                           \u001b[0m\n",
              "┏━━━━━━━━━━━━━━━━━━━━━━━┳━━━━━━━━━━━━┳━━━━━━━━━━━━━┳━━━━━━━━━━━━━┳━━━━━━━━━━━━┳━━━━━━━━━━━━━┳━━━━━━━━━━━━━┓\n",
              "┃\u001b[1m \u001b[0m\u001b[1mFunction             \u001b[0m\u001b[1m \u001b[0m┃\u001b[1m \u001b[0m\u001b[1mGPU ncalls\u001b[0m\u001b[1m \u001b[0m┃\u001b[1m \u001b[0m\u001b[1mGPU cumtime\u001b[0m\u001b[1m \u001b[0m┃\u001b[1m \u001b[0m\u001b[1mGPU percall\u001b[0m\u001b[1m \u001b[0m┃\u001b[1m \u001b[0m\u001b[1mCPU ncalls\u001b[0m\u001b[1m \u001b[0m┃\u001b[1m \u001b[0m\u001b[1mCPU cumtime\u001b[0m\u001b[1m \u001b[0m┃\u001b[1m \u001b[0m\u001b[1mCPU percall\u001b[0m\u001b[1m \u001b[0m┃\n",
              "┡━━━━━━━━━━━━━━━━━━━━━━━╇━━━━━━━━━━━━╇━━━━━━━━━━━━━╇━━━━━━━━━━━━━╇━━━━━━━━━━━━╇━━━━━━━━━━━━━╇━━━━━━━━━━━━━┩\n",
              "│ DataFrame.__getitem__ │ 2          │ 0.011       │ 0.005       │ 0          │ 0.000       │ 0.000       │\n",
              "│ OpsMixin.__gt__       │ 1          │ 0.028       │ 0.028       │ 0          │ 0.000       │ 0.000       │\n",
              "│ NDFrame.astype        │ 1          │ 0.006       │ 0.006       │ 0          │ 0.000       │ 0.000       │\n",
              "│ DataFrame.__setitem__ │ 1          │ 0.001       │ 0.001       │ 0          │ 0.000       │ 0.000       │\n",
              "│ object.__str__        │ 1          │ 0.046       │ 0.046       │ 0          │ 0.000       │ 0.000       │\n",
              "└───────────────────────┴────────────┴─────────────┴─────────────┴────────────┴─────────────┴─────────────┘\n"
            ],
            "text/html": [
              "<pre style=\"white-space:pre;overflow-x:auto;line-height:normal;font-family:Menlo,'DejaVu Sans Mono',consolas,'Courier New',monospace\"><span style=\"font-style: italic\">                                                                                                           </span>\n",
              "<span style=\"font-style: italic\">                                         Total time elapsed: 0.624 seconds                                 </span>\n",
              "<span style=\"font-style: italic\">                                       6 GPU function calls in 0.093 seconds                               </span>\n",
              "<span style=\"font-style: italic\">                                       0 CPU function calls in 0.000 seconds                               </span>\n",
              "<span style=\"font-style: italic\">                                                                                                           </span>\n",
              "<span style=\"font-style: italic\">                                                       Stats                                               </span>\n",
              "<span style=\"font-style: italic\">                                                                                                           </span>\n",
              "┏━━━━━━━━━━━━━━━━━━━━━━━┳━━━━━━━━━━━━┳━━━━━━━━━━━━━┳━━━━━━━━━━━━━┳━━━━━━━━━━━━┳━━━━━━━━━━━━━┳━━━━━━━━━━━━━┓\n",
              "┃<span style=\"font-weight: bold\"> Function              </span>┃<span style=\"font-weight: bold\"> GPU ncalls </span>┃<span style=\"font-weight: bold\"> GPU cumtime </span>┃<span style=\"font-weight: bold\"> GPU percall </span>┃<span style=\"font-weight: bold\"> CPU ncalls </span>┃<span style=\"font-weight: bold\"> CPU cumtime </span>┃<span style=\"font-weight: bold\"> CPU percall </span>┃\n",
              "┡━━━━━━━━━━━━━━━━━━━━━━━╇━━━━━━━━━━━━╇━━━━━━━━━━━━━╇━━━━━━━━━━━━━╇━━━━━━━━━━━━╇━━━━━━━━━━━━━╇━━━━━━━━━━━━━┩\n",
              "│ DataFrame.__getitem__ │ 2          │ 0.011       │ 0.005       │ 0          │ 0.000       │ 0.000       │\n",
              "│ OpsMixin.__gt__       │ 1          │ 0.028       │ 0.028       │ 0          │ 0.000       │ 0.000       │\n",
              "│ NDFrame.astype        │ 1          │ 0.006       │ 0.006       │ 0          │ 0.000       │ 0.000       │\n",
              "│ DataFrame.__setitem__ │ 1          │ 0.001       │ 0.001       │ 0          │ 0.000       │ 0.000       │\n",
              "│ object.__str__        │ 1          │ 0.046       │ 0.046       │ 0          │ 0.000       │ 0.000       │\n",
              "└───────────────────────┴────────────┴─────────────┴─────────────┴────────────┴─────────────┴─────────────┘\n",
              "</pre>\n"
            ]
          },
          "metadata": {}
        }
      ]
    },
    {
      "cell_type": "code",
      "source": [
        "null_counts = gdf.isnull().sum()\n",
        "null_counts"
      ],
      "metadata": {
        "colab": {
          "base_uri": "https://localhost:8080/",
          "height": 1000
        },
        "id": "KjhsI7XFxNq5",
        "outputId": "18ea8394-22f1-4356-8030-0769f563ca69"
      },
      "execution_count": 18,
      "outputs": [
        {
          "output_type": "execute_result",
          "data": {
            "text/plain": [
              "FL_DATE                          0\n",
              "AIRLINE                          0\n",
              "AIRLINE_DOT                      0\n",
              "AIRLINE_CODE                     0\n",
              "DOT_CODE                         0\n",
              "FL_NUMBER                        0\n",
              "ORIGIN                           0\n",
              "ORIGIN_CITY                      0\n",
              "DEST                             0\n",
              "DEST_CITY                        0\n",
              "CRS_DEP_TIME                     0\n",
              "DEP_TIME                     77615\n",
              "DEP_DELAY                    77644\n",
              "TAXI_OUT                     78806\n",
              "WHEELS_OFF                   78806\n",
              "WHEELS_ON                    79944\n",
              "TAXI_IN                      79944\n",
              "CRS_ARR_TIME                     0\n",
              "ARR_TIME                     79942\n",
              "ARR_DELAY                        0\n",
              "CANCELLED                        0\n",
              "CANCELLATION_CODE          2920860\n",
              "DIVERTED                         0\n",
              "CRS_ELAPSED_TIME                14\n",
              "ELAPSED_TIME                 86198\n",
              "AIR_TIME                     86198\n",
              "DISTANCE                         0\n",
              "DELAY_DUE_CARRIER          2466137\n",
              "DELAY_DUE_WEATHER          2466137\n",
              "DELAY_DUE_NAS              2466137\n",
              "DELAY_DUE_SECURITY         2466137\n",
              "DELAY_DUE_LATE_AIRCRAFT    2466137\n",
              "is_delayed                       0\n",
              "dtype: int64"
            ],
            "text/html": [
              "<div>\n",
              "<style scoped>\n",
              "    .dataframe tbody tr th:only-of-type {\n",
              "        vertical-align: middle;\n",
              "    }\n",
              "\n",
              "    .dataframe tbody tr th {\n",
              "        vertical-align: top;\n",
              "    }\n",
              "\n",
              "    .dataframe thead th {\n",
              "        text-align: right;\n",
              "    }\n",
              "</style>\n",
              "<table border=\"1\" class=\"dataframe\">\n",
              "  <thead>\n",
              "    <tr style=\"text-align: right;\">\n",
              "      <th></th>\n",
              "      <th>0</th>\n",
              "    </tr>\n",
              "  </thead>\n",
              "  <tbody>\n",
              "    <tr>\n",
              "      <th>FL_DATE</th>\n",
              "      <td>0</td>\n",
              "    </tr>\n",
              "    <tr>\n",
              "      <th>AIRLINE</th>\n",
              "      <td>0</td>\n",
              "    </tr>\n",
              "    <tr>\n",
              "      <th>AIRLINE_DOT</th>\n",
              "      <td>0</td>\n",
              "    </tr>\n",
              "    <tr>\n",
              "      <th>AIRLINE_CODE</th>\n",
              "      <td>0</td>\n",
              "    </tr>\n",
              "    <tr>\n",
              "      <th>DOT_CODE</th>\n",
              "      <td>0</td>\n",
              "    </tr>\n",
              "    <tr>\n",
              "      <th>FL_NUMBER</th>\n",
              "      <td>0</td>\n",
              "    </tr>\n",
              "    <tr>\n",
              "      <th>ORIGIN</th>\n",
              "      <td>0</td>\n",
              "    </tr>\n",
              "    <tr>\n",
              "      <th>ORIGIN_CITY</th>\n",
              "      <td>0</td>\n",
              "    </tr>\n",
              "    <tr>\n",
              "      <th>DEST</th>\n",
              "      <td>0</td>\n",
              "    </tr>\n",
              "    <tr>\n",
              "      <th>DEST_CITY</th>\n",
              "      <td>0</td>\n",
              "    </tr>\n",
              "    <tr>\n",
              "      <th>CRS_DEP_TIME</th>\n",
              "      <td>0</td>\n",
              "    </tr>\n",
              "    <tr>\n",
              "      <th>DEP_TIME</th>\n",
              "      <td>77615</td>\n",
              "    </tr>\n",
              "    <tr>\n",
              "      <th>DEP_DELAY</th>\n",
              "      <td>77644</td>\n",
              "    </tr>\n",
              "    <tr>\n",
              "      <th>TAXI_OUT</th>\n",
              "      <td>78806</td>\n",
              "    </tr>\n",
              "    <tr>\n",
              "      <th>WHEELS_OFF</th>\n",
              "      <td>78806</td>\n",
              "    </tr>\n",
              "    <tr>\n",
              "      <th>WHEELS_ON</th>\n",
              "      <td>79944</td>\n",
              "    </tr>\n",
              "    <tr>\n",
              "      <th>TAXI_IN</th>\n",
              "      <td>79944</td>\n",
              "    </tr>\n",
              "    <tr>\n",
              "      <th>CRS_ARR_TIME</th>\n",
              "      <td>0</td>\n",
              "    </tr>\n",
              "    <tr>\n",
              "      <th>ARR_TIME</th>\n",
              "      <td>79942</td>\n",
              "    </tr>\n",
              "    <tr>\n",
              "      <th>ARR_DELAY</th>\n",
              "      <td>0</td>\n",
              "    </tr>\n",
              "    <tr>\n",
              "      <th>CANCELLED</th>\n",
              "      <td>0</td>\n",
              "    </tr>\n",
              "    <tr>\n",
              "      <th>CANCELLATION_CODE</th>\n",
              "      <td>2920860</td>\n",
              "    </tr>\n",
              "    <tr>\n",
              "      <th>DIVERTED</th>\n",
              "      <td>0</td>\n",
              "    </tr>\n",
              "    <tr>\n",
              "      <th>CRS_ELAPSED_TIME</th>\n",
              "      <td>14</td>\n",
              "    </tr>\n",
              "    <tr>\n",
              "      <th>ELAPSED_TIME</th>\n",
              "      <td>86198</td>\n",
              "    </tr>\n",
              "    <tr>\n",
              "      <th>AIR_TIME</th>\n",
              "      <td>86198</td>\n",
              "    </tr>\n",
              "    <tr>\n",
              "      <th>DISTANCE</th>\n",
              "      <td>0</td>\n",
              "    </tr>\n",
              "    <tr>\n",
              "      <th>DELAY_DUE_CARRIER</th>\n",
              "      <td>2466137</td>\n",
              "    </tr>\n",
              "    <tr>\n",
              "      <th>DELAY_DUE_WEATHER</th>\n",
              "      <td>2466137</td>\n",
              "    </tr>\n",
              "    <tr>\n",
              "      <th>DELAY_DUE_NAS</th>\n",
              "      <td>2466137</td>\n",
              "    </tr>\n",
              "    <tr>\n",
              "      <th>DELAY_DUE_SECURITY</th>\n",
              "      <td>2466137</td>\n",
              "    </tr>\n",
              "    <tr>\n",
              "      <th>DELAY_DUE_LATE_AIRCRAFT</th>\n",
              "      <td>2466137</td>\n",
              "    </tr>\n",
              "    <tr>\n",
              "      <th>is_delayed</th>\n",
              "      <td>0</td>\n",
              "    </tr>\n",
              "  </tbody>\n",
              "</table>\n",
              "</div><br><label><b>dtype:</b> int64</label>"
            ]
          },
          "metadata": {},
          "execution_count": 18
        }
      ]
    },
    {
      "cell_type": "markdown",
      "source": [
        "## 4. 🧹 Preprocessing"
      ],
      "metadata": {
        "id": "sK8lLSof5Tvp"
      }
    },
    {
      "cell_type": "markdown",
      "source": [
        "# Important Features:\n",
        "\n",
        "- AIRLINE or (AIRLINE_DOT, AIRLINE_CODE): Airline operational practices are\n",
        "strong indicators of potential delays.\n",
        "- ORIGIN and DEST: Airport conditions and traffic patterns influence delay likelihood.\n",
        "- CRS_DEP_TIME and CRS_ARR_TIME: Scheduled times can reveal potential peak periods or resource constraints. Consider extracting the hour of the day for improved performance.\n",
        "- DISTANCE: Longer flights are more susceptible to delays."
      ],
      "metadata": {
        "id": "wPHfm-Hl2-Kr"
      }
    },
    {
      "cell_type": "code",
      "source": [
        "gdf_colmuns = gdf[['AIRLINE', 'ORIGIN', 'DEST', 'CRS_DEP_TIME', 'CRS_ARR_TIME', 'DISTANCE','is_delayed']]"
      ],
      "metadata": {
        "id": "brET40xmy7cz"
      },
      "execution_count": 19,
      "outputs": []
    },
    {
      "cell_type": "code",
      "source": [
        "gdf_colmuns.head()"
      ],
      "metadata": {
        "colab": {
          "base_uri": "https://localhost:8080/",
          "height": 206
        },
        "id": "CqxaHLVc14mO",
        "outputId": "63fcf76e-c67e-45c0-91e7-1c5cf24d6b1e"
      },
      "execution_count": 20,
      "outputs": [
        {
          "output_type": "execute_result",
          "data": {
            "text/plain": [
              "                 AIRLINE ORIGIN DEST  CRS_DEP_TIME  CRS_ARR_TIME  DISTANCE  \\\n",
              "0  United Air Lines Inc.    FLL  EWR          1155          1501    1065.0   \n",
              "1   Delta Air Lines Inc.    MSP  SEA          2120          2315    1399.0   \n",
              "2  United Air Lines Inc.    DEN  MSP           954          1252     680.0   \n",
              "3   Delta Air Lines Inc.    MSP  SFO          1609          1829    1589.0   \n",
              "4       Spirit Air Lines    MCO  DFW          1840          2041     985.0   \n",
              "\n",
              "   is_delayed  \n",
              "0           0  \n",
              "1           0  \n",
              "2           0  \n",
              "3           1  \n",
              "4           0  "
            ],
            "text/html": [
              "<div>\n",
              "<style scoped>\n",
              "    .dataframe tbody tr th:only-of-type {\n",
              "        vertical-align: middle;\n",
              "    }\n",
              "\n",
              "    .dataframe tbody tr th {\n",
              "        vertical-align: top;\n",
              "    }\n",
              "\n",
              "    .dataframe thead th {\n",
              "        text-align: right;\n",
              "    }\n",
              "</style>\n",
              "<table border=\"1\" class=\"dataframe\">\n",
              "  <thead>\n",
              "    <tr style=\"text-align: right;\">\n",
              "      <th></th>\n",
              "      <th>AIRLINE</th>\n",
              "      <th>ORIGIN</th>\n",
              "      <th>DEST</th>\n",
              "      <th>CRS_DEP_TIME</th>\n",
              "      <th>CRS_ARR_TIME</th>\n",
              "      <th>DISTANCE</th>\n",
              "      <th>is_delayed</th>\n",
              "    </tr>\n",
              "  </thead>\n",
              "  <tbody>\n",
              "    <tr>\n",
              "      <th>0</th>\n",
              "      <td>United Air Lines Inc.</td>\n",
              "      <td>FLL</td>\n",
              "      <td>EWR</td>\n",
              "      <td>1155</td>\n",
              "      <td>1501</td>\n",
              "      <td>1065.0</td>\n",
              "      <td>0</td>\n",
              "    </tr>\n",
              "    <tr>\n",
              "      <th>1</th>\n",
              "      <td>Delta Air Lines Inc.</td>\n",
              "      <td>MSP</td>\n",
              "      <td>SEA</td>\n",
              "      <td>2120</td>\n",
              "      <td>2315</td>\n",
              "      <td>1399.0</td>\n",
              "      <td>0</td>\n",
              "    </tr>\n",
              "    <tr>\n",
              "      <th>2</th>\n",
              "      <td>United Air Lines Inc.</td>\n",
              "      <td>DEN</td>\n",
              "      <td>MSP</td>\n",
              "      <td>954</td>\n",
              "      <td>1252</td>\n",
              "      <td>680.0</td>\n",
              "      <td>0</td>\n",
              "    </tr>\n",
              "    <tr>\n",
              "      <th>3</th>\n",
              "      <td>Delta Air Lines Inc.</td>\n",
              "      <td>MSP</td>\n",
              "      <td>SFO</td>\n",
              "      <td>1609</td>\n",
              "      <td>1829</td>\n",
              "      <td>1589.0</td>\n",
              "      <td>1</td>\n",
              "    </tr>\n",
              "    <tr>\n",
              "      <th>4</th>\n",
              "      <td>Spirit Air Lines</td>\n",
              "      <td>MCO</td>\n",
              "      <td>DFW</td>\n",
              "      <td>1840</td>\n",
              "      <td>2041</td>\n",
              "      <td>985.0</td>\n",
              "      <td>0</td>\n",
              "    </tr>\n",
              "  </tbody>\n",
              "</table>\n",
              "</div>"
            ],
            "application/vnd.google.colaboratory.intrinsic+json": {
              "type": "dataframe",
              "variable_name": "gdf_colmuns"
            }
          },
          "metadata": {},
          "execution_count": 20
        }
      ]
    },
    {
      "cell_type": "code",
      "source": [
        "null_counts = gdf_colmuns.isnull().sum()\n",
        "null_counts"
      ],
      "metadata": {
        "colab": {
          "base_uri": "https://localhost:8080/",
          "height": 304
        },
        "id": "sORevGja3-3i",
        "outputId": "f86441cd-c347-45f7-8a98-b03a3c4943cf"
      },
      "execution_count": 21,
      "outputs": [
        {
          "output_type": "execute_result",
          "data": {
            "text/plain": [
              "AIRLINE         0\n",
              "ORIGIN          0\n",
              "DEST            0\n",
              "CRS_DEP_TIME    0\n",
              "CRS_ARR_TIME    0\n",
              "DISTANCE        0\n",
              "is_delayed      0\n",
              "dtype: int64"
            ],
            "text/html": [
              "<div>\n",
              "<style scoped>\n",
              "    .dataframe tbody tr th:only-of-type {\n",
              "        vertical-align: middle;\n",
              "    }\n",
              "\n",
              "    .dataframe tbody tr th {\n",
              "        vertical-align: top;\n",
              "    }\n",
              "\n",
              "    .dataframe thead th {\n",
              "        text-align: right;\n",
              "    }\n",
              "</style>\n",
              "<table border=\"1\" class=\"dataframe\">\n",
              "  <thead>\n",
              "    <tr style=\"text-align: right;\">\n",
              "      <th></th>\n",
              "      <th>0</th>\n",
              "    </tr>\n",
              "  </thead>\n",
              "  <tbody>\n",
              "    <tr>\n",
              "      <th>AIRLINE</th>\n",
              "      <td>0</td>\n",
              "    </tr>\n",
              "    <tr>\n",
              "      <th>ORIGIN</th>\n",
              "      <td>0</td>\n",
              "    </tr>\n",
              "    <tr>\n",
              "      <th>DEST</th>\n",
              "      <td>0</td>\n",
              "    </tr>\n",
              "    <tr>\n",
              "      <th>CRS_DEP_TIME</th>\n",
              "      <td>0</td>\n",
              "    </tr>\n",
              "    <tr>\n",
              "      <th>CRS_ARR_TIME</th>\n",
              "      <td>0</td>\n",
              "    </tr>\n",
              "    <tr>\n",
              "      <th>DISTANCE</th>\n",
              "      <td>0</td>\n",
              "    </tr>\n",
              "    <tr>\n",
              "      <th>is_delayed</th>\n",
              "      <td>0</td>\n",
              "    </tr>\n",
              "  </tbody>\n",
              "</table>\n",
              "</div><br><label><b>dtype:</b> int64</label>"
            ]
          },
          "metadata": {},
          "execution_count": 21
        }
      ]
    },
    {
      "cell_type": "code",
      "source": [
        "object_columns = gdf_colmuns.select_dtypes(include=['object']).columns\n",
        "\n",
        "# Encode object columns using Label Encoding\n",
        "for col in object_columns:\n",
        "    gdf_colmuns[col] = pd.factorize(gdf_colmuns[col])[0]\n",
        "\n",
        "print(gdf_colmuns.head())\n"
      ],
      "metadata": {
        "colab": {
          "base_uri": "https://localhost:8080/"
        },
        "id": "BIFNAHzk4C2W",
        "outputId": "21a163e5-8938-4338-aebe-e94e77bb6b14"
      },
      "execution_count": 22,
      "outputs": [
        {
          "output_type": "stream",
          "name": "stdout",
          "text": [
            "   AIRLINE  ORIGIN  DEST  CRS_DEP_TIME  CRS_ARR_TIME  DISTANCE  is_delayed\n",
            "0        0       0     0          1155          1501    1065.0           0\n",
            "1        1       1     1          2120          2315    1399.0           0\n",
            "2        0       2     2           954          1252     680.0           0\n",
            "3        1       1     3          1609          1829    1589.0           1\n",
            "4        2       3     4          1840          2041     985.0           0\n"
          ]
        }
      ]
    },
    {
      "cell_type": "code",
      "source": [
        "%%cudf.pandas.profile\n",
        "\n",
        "columns_to_scale = ['CRS_DEP_TIME', 'CRS_ARR_TIME', 'DISTANCE']\n",
        "\n",
        "# Create a MinMaxScaler object\n",
        "scaler = MinMaxScaler()\n",
        "\n",
        "# Fit the scaler to the selected columns and transform them\n",
        "gdf_colmuns[columns_to_scale] = scaler.fit_transform(gdf_colmuns[columns_to_scale])\n",
        "\n",
        "# Print the scaled DataFrame\n",
        "print(gdf_colmuns.head())\n"
      ],
      "metadata": {
        "colab": {
          "base_uri": "https://localhost:8080/",
          "height": 600
        },
        "id": "WPiXW-ci4kS2",
        "outputId": "e71fd746-0a6f-4c18-faa6-3f648cea834a"
      },
      "execution_count": 23,
      "outputs": [
        {
          "output_type": "stream",
          "name": "stdout",
          "text": [
            "   AIRLINE  ORIGIN  DEST  CRS_DEP_TIME  CRS_ARR_TIME  DISTANCE  is_delayed\n",
            "0        0       0     0      0.489398      0.625261  0.179146           0\n",
            "1        1       1     1      0.898643      0.964569  0.236901           0\n",
            "2        0       2     2      0.404156      0.521467  0.112571           0\n",
            "3        1       1     3      0.681934      0.761984  0.269756           1\n",
            "4        2       3     4      0.779898      0.850354  0.165312           0\n"
          ]
        },
        {
          "output_type": "display_data",
          "data": {
            "text/plain": [
              "\u001b[3m                                                                                                              \u001b[0m\n",
              "\u001b[3m                                          Total time elapsed: 2.544 seconds                                   \u001b[0m\n",
              "\u001b[3m                                        19 GPU function calls in 0.064 seconds                                \u001b[0m\n",
              "\u001b[3m                                        5 CPU function calls in 0.011 seconds                                 \u001b[0m\n",
              "\u001b[3m                                                                                                              \u001b[0m\n",
              "\u001b[3m                                                        Stats                                                 \u001b[0m\n",
              "\u001b[3m                                                                                                              \u001b[0m\n",
              "┏━━━━━━━━━━━━━━━━━━━━━━━━━━┳━━━━━━━━━━━━┳━━━━━━━━━━━━━┳━━━━━━━━━━━━━┳━━━━━━━━━━━━┳━━━━━━━━━━━━━┳━━━━━━━━━━━━━┓\n",
              "┃\u001b[1m \u001b[0m\u001b[1mFunction                \u001b[0m\u001b[1m \u001b[0m┃\u001b[1m \u001b[0m\u001b[1mGPU ncalls\u001b[0m\u001b[1m \u001b[0m┃\u001b[1m \u001b[0m\u001b[1mGPU cumtime\u001b[0m\u001b[1m \u001b[0m┃\u001b[1m \u001b[0m\u001b[1mGPU percall\u001b[0m\u001b[1m \u001b[0m┃\u001b[1m \u001b[0m\u001b[1mCPU ncalls\u001b[0m\u001b[1m \u001b[0m┃\u001b[1m \u001b[0m\u001b[1mCPU cumtime\u001b[0m\u001b[1m \u001b[0m┃\u001b[1m \u001b[0m\u001b[1mCPU percall\u001b[0m\u001b[1m \u001b[0m┃\n",
              "┡━━━━━━━━━━━━━━━━━━━━━━━━━━╇━━━━━━━━━━━━╇━━━━━━━━━━━━━╇━━━━━━━━━━━━━╇━━━━━━━━━━━━╇━━━━━━━━━━━━━╇━━━━━━━━━━━━━┩\n",
              "│ DataFrame.__getitem__    │ 1          │ 0.002       │ 0.002       │ 0          │ 0.000       │ 0.000       │\n",
              "│ DataFrame                │ 1          │ 0.000       │ 0.000       │ 1          │ 0.000       │ 0.000       │\n",
              "│ Series.apply             │ 0          │ 0.000       │ 0.000       │ 2          │ 0.008       │ 0.004       │\n",
              "│ Series.any               │ 2          │ 0.010       │ 0.005       │ 0          │ 0.000       │ 0.000       │\n",
              "│ Series.__len__           │ 0          │ 0.000       │ 0.000       │ 2          │ 0.002       │ 0.001       │\n",
              "│ is_bool_dtype            │ 6          │ 0.001       │ 0.000       │ 0          │ 0.000       │ 0.000       │\n",
              "│ is_extension_array_dtype │ 6          │ 0.001       │ 0.000       │ 0          │ 0.000       │ 0.000       │\n",
              "│ DataFrame.__setitem__    │ 1          │ 0.030       │ 0.030       │ 0          │ 0.000       │ 0.000       │\n",
              "│ NDFrame.head             │ 1          │ 0.003       │ 0.003       │ 0          │ 0.000       │ 0.000       │\n",
              "│ object.__str__           │ 1          │ 0.016       │ 0.016       │ 0          │ 0.000       │ 0.000       │\n",
              "└──────────────────────────┴────────────┴─────────────┴─────────────┴────────────┴─────────────┴─────────────┘\n"
            ],
            "text/html": [
              "<pre style=\"white-space:pre;overflow-x:auto;line-height:normal;font-family:Menlo,'DejaVu Sans Mono',consolas,'Courier New',monospace\"><span style=\"font-style: italic\">                                                                                                              </span>\n",
              "<span style=\"font-style: italic\">                                          Total time elapsed: 2.544 seconds                                   </span>\n",
              "<span style=\"font-style: italic\">                                        19 GPU function calls in 0.064 seconds                                </span>\n",
              "<span style=\"font-style: italic\">                                        5 CPU function calls in 0.011 seconds                                 </span>\n",
              "<span style=\"font-style: italic\">                                                                                                              </span>\n",
              "<span style=\"font-style: italic\">                                                        Stats                                                 </span>\n",
              "<span style=\"font-style: italic\">                                                                                                              </span>\n",
              "┏━━━━━━━━━━━━━━━━━━━━━━━━━━┳━━━━━━━━━━━━┳━━━━━━━━━━━━━┳━━━━━━━━━━━━━┳━━━━━━━━━━━━┳━━━━━━━━━━━━━┳━━━━━━━━━━━━━┓\n",
              "┃<span style=\"font-weight: bold\"> Function                 </span>┃<span style=\"font-weight: bold\"> GPU ncalls </span>┃<span style=\"font-weight: bold\"> GPU cumtime </span>┃<span style=\"font-weight: bold\"> GPU percall </span>┃<span style=\"font-weight: bold\"> CPU ncalls </span>┃<span style=\"font-weight: bold\"> CPU cumtime </span>┃<span style=\"font-weight: bold\"> CPU percall </span>┃\n",
              "┡━━━━━━━━━━━━━━━━━━━━━━━━━━╇━━━━━━━━━━━━╇━━━━━━━━━━━━━╇━━━━━━━━━━━━━╇━━━━━━━━━━━━╇━━━━━━━━━━━━━╇━━━━━━━━━━━━━┩\n",
              "│ DataFrame.__getitem__    │ 1          │ 0.002       │ 0.002       │ 0          │ 0.000       │ 0.000       │\n",
              "│ DataFrame                │ 1          │ 0.000       │ 0.000       │ 1          │ 0.000       │ 0.000       │\n",
              "│ Series.apply             │ 0          │ 0.000       │ 0.000       │ 2          │ 0.008       │ 0.004       │\n",
              "│ Series.any               │ 2          │ 0.010       │ 0.005       │ 0          │ 0.000       │ 0.000       │\n",
              "│ Series.__len__           │ 0          │ 0.000       │ 0.000       │ 2          │ 0.002       │ 0.001       │\n",
              "│ is_bool_dtype            │ 6          │ 0.001       │ 0.000       │ 0          │ 0.000       │ 0.000       │\n",
              "│ is_extension_array_dtype │ 6          │ 0.001       │ 0.000       │ 0          │ 0.000       │ 0.000       │\n",
              "│ DataFrame.__setitem__    │ 1          │ 0.030       │ 0.030       │ 0          │ 0.000       │ 0.000       │\n",
              "│ NDFrame.head             │ 1          │ 0.003       │ 0.003       │ 0          │ 0.000       │ 0.000       │\n",
              "│ object.__str__           │ 1          │ 0.016       │ 0.016       │ 0          │ 0.000       │ 0.000       │\n",
              "└──────────────────────────┴────────────┴─────────────┴─────────────┴────────────┴─────────────┴─────────────┘\n",
              "</pre>\n"
            ]
          },
          "metadata": {}
        },
        {
          "output_type": "display_data",
          "data": {
            "text/plain": [
              "Not all pandas operations ran on the GPU. The following functions required CPU fallback:\n",
              "\n",
              "- DataFrame\n",
              "- Series.apply\n",
              "- Series.__len__\n",
              "\n"
            ],
            "text/html": [
              "<pre style=\"white-space:pre;overflow-x:auto;line-height:normal;font-family:Menlo,'DejaVu Sans Mono',consolas,'Courier New',monospace\">Not all pandas operations ran on the GPU. The following functions required CPU fallback:\n",
              "\n",
              "- DataFrame\n",
              "- Series.apply\n",
              "- Series.__len__\n",
              "\n",
              "</pre>\n"
            ]
          },
          "metadata": {}
        },
        {
          "output_type": "display_data",
          "data": {
            "text/plain": [
              "To request GPU support for any of these functions, please file a Github issue here: \n",
              "\u001b]8;id=47273;https://github.com/rapidsai/cudf/issues/new?assignees=&labels=%3F+-+Needs+Triage%2C+feature+request&projects=&template=pandas_function_request.md&title=%5BFEA%5D\u001b\\\u001b[4;94mhttps://github.com/rapidsai/cudf/issues/new/choose\u001b[0m\u001b]8;;\u001b\\\u001b[4;94m.\u001b[0m\n"
            ],
            "text/html": [
              "<pre style=\"white-space:pre;overflow-x:auto;line-height:normal;font-family:Menlo,'DejaVu Sans Mono',consolas,'Courier New',monospace\">To request GPU support for any of these functions, please file a Github issue here: \n",
              "<a href=\"https://github.com/rapidsai/cudf/issues/new?assignees=&labels=%3F+-+Needs+Triage%2C+feature+request&projects=&template=pandas_function_request.md&title=%5BFEA%5D\" target=\"_blank\"><span style=\"color: #0000ff; text-decoration-color: #0000ff; text-decoration: underline\">https://github.com/rapidsai/cudf/issues/new/choose</span></a><span style=\"color: #0000ff; text-decoration-color: #0000ff; text-decoration: underline\">.</span>\n",
              "</pre>\n"
            ]
          },
          "metadata": {}
        }
      ]
    },
    {
      "cell_type": "code",
      "source": [
        "gdf_colmuns_sample = gdf_colmuns.sample(n=1000000, random_state=42)\n",
        "print(gdf_colmuns_sample.head())"
      ],
      "metadata": {
        "colab": {
          "base_uri": "https://localhost:8080/"
        },
        "id": "JimXOHnW48cA",
        "outputId": "71e78d05-80ab-4d17-878c-7a92220441d7"
      },
      "execution_count": 24,
      "outputs": [
        {
          "output_type": "stream",
          "name": "stdout",
          "text": [
            "         AIRLINE  ORIGIN  DEST  CRS_DEP_TIME  CRS_ARR_TIME  DISTANCE  \\\n",
            "862231         4      19    35      0.436387      0.473947  0.037697   \n",
            "2499752        3      25    49      0.427905      0.431013  0.058620   \n",
            "2510019        4      20   164      0.483036      0.545644  0.066402   \n",
            "1917689        7      32    38      0.338846      0.463943  0.188829   \n",
            "2660759       15      63    63      0.264631      0.300959  0.095452   \n",
            "\n",
            "         is_delayed  \n",
            "862231            1  \n",
            "2499752           0  \n",
            "2510019           0  \n",
            "1917689           0  \n",
            "2660759           0  \n"
          ]
        }
      ]
    },
    {
      "cell_type": "code",
      "source": [
        "gdf_colmuns['is_delayed'].value_counts()"
      ],
      "metadata": {
        "colab": {
          "base_uri": "https://localhost:8080/",
          "height": 178
        },
        "id": "WDDWJ7OZHJ9u",
        "outputId": "7cc02c36-6e86-4853-eb54-4354bf3d2535"
      },
      "execution_count": 25,
      "outputs": [
        {
          "output_type": "execute_result",
          "data": {
            "text/plain": [
              "is_delayed\n",
              "0    2484711\n",
              "1     515289\n",
              "Name: count, dtype: int64"
            ],
            "text/html": [
              "<div>\n",
              "<style scoped>\n",
              "    .dataframe tbody tr th:only-of-type {\n",
              "        vertical-align: middle;\n",
              "    }\n",
              "\n",
              "    .dataframe tbody tr th {\n",
              "        vertical-align: top;\n",
              "    }\n",
              "\n",
              "    .dataframe thead th {\n",
              "        text-align: right;\n",
              "    }\n",
              "</style>\n",
              "<table border=\"1\" class=\"dataframe\">\n",
              "  <thead>\n",
              "    <tr style=\"text-align: right;\">\n",
              "      <th></th>\n",
              "      <th>count</th>\n",
              "    </tr>\n",
              "    <tr>\n",
              "      <th>is_delayed</th>\n",
              "      <th></th>\n",
              "    </tr>\n",
              "  </thead>\n",
              "  <tbody>\n",
              "    <tr>\n",
              "      <th>0</th>\n",
              "      <td>2484711</td>\n",
              "    </tr>\n",
              "    <tr>\n",
              "      <th>1</th>\n",
              "      <td>515289</td>\n",
              "    </tr>\n",
              "  </tbody>\n",
              "</table>\n",
              "</div><br><label><b>dtype:</b> int64</label>"
            ]
          },
          "metadata": {},
          "execution_count": 25
        }
      ]
    },
    {
      "cell_type": "markdown",
      "source": [
        "# Separate the data based on 'is_delayed' with equal representation"
      ],
      "metadata": {
        "id": "penMW1jmzgM3"
      }
    },
    {
      "cell_type": "code",
      "source": [
        "%%cudf.pandas.profile\n",
        "\n",
        "delayed_flights = gdf_colmuns[gdf_colmuns['is_delayed'] == 1]\n",
        "not_delayed_flights = gdf_colmuns[gdf_colmuns['is_delayed'] == 0]\n",
        "\n",
        "# Determine the smaller group size\n",
        "min_size = min(len(delayed_flights), len(not_delayed_flights))\n",
        "\n",
        "# Sample both groups to have an equal number of instances\n",
        "delayed_flights_sampled = delayed_flights.sample(n=min_size, random_state=42)  # Use random_state for reproducibility\n",
        "not_delayed_flights_sampled = not_delayed_flights.sample(n=min_size, random_state=42)\n",
        "\n",
        "# Concatenate the balanced datasets\n",
        "balanced_gdf = pd.concat([delayed_flights_sampled, not_delayed_flights_sampled])\n",
        "\n",
        "# Shuffle the balanced dataset\n",
        "balanced_gdf = balanced_gdf.sample(frac=1, random_state=42).reset_index(drop=True)\n",
        "\n",
        "# Class distribution\n",
        "print(balanced_gdf['is_delayed'].value_counts())"
      ],
      "metadata": {
        "colab": {
          "base_uri": "https://localhost:8080/",
          "height": 400
        },
        "id": "paDHD0oOHdog",
        "outputId": "e71b653d-1fb2-4f1c-f01e-b2ff0f2953eb"
      },
      "execution_count": 26,
      "outputs": [
        {
          "output_type": "stream",
          "name": "stdout",
          "text": [
            "is_delayed\n",
            "0    515289\n",
            "1    515289\n",
            "Name: count, dtype: int64\n"
          ]
        },
        {
          "output_type": "display_data",
          "data": {
            "text/plain": [
              "\u001b[3m                                                                                                                \u001b[0m\n",
              "\u001b[3m                                           Total time elapsed: 0.301 seconds                                    \u001b[0m\n",
              "\u001b[3m                                         16 GPU function calls in 0.111 seconds                                 \u001b[0m\n",
              "\u001b[3m                                         0 CPU function calls in 0.000 seconds                                  \u001b[0m\n",
              "\u001b[3m                                                                                                                \u001b[0m\n",
              "\u001b[3m                                                         Stats                                                  \u001b[0m\n",
              "\u001b[3m                                                                                                                \u001b[0m\n",
              "┏━━━━━━━━━━━━━━━━━━━━━━━━━━━━┳━━━━━━━━━━━━┳━━━━━━━━━━━━━┳━━━━━━━━━━━━━┳━━━━━━━━━━━━┳━━━━━━━━━━━━━┳━━━━━━━━━━━━━┓\n",
              "┃\u001b[1m \u001b[0m\u001b[1mFunction                  \u001b[0m\u001b[1m \u001b[0m┃\u001b[1m \u001b[0m\u001b[1mGPU ncalls\u001b[0m\u001b[1m \u001b[0m┃\u001b[1m \u001b[0m\u001b[1mGPU cumtime\u001b[0m\u001b[1m \u001b[0m┃\u001b[1m \u001b[0m\u001b[1mGPU percall\u001b[0m\u001b[1m \u001b[0m┃\u001b[1m \u001b[0m\u001b[1mCPU ncalls\u001b[0m\u001b[1m \u001b[0m┃\u001b[1m \u001b[0m\u001b[1mCPU cumtime\u001b[0m\u001b[1m \u001b[0m┃\u001b[1m \u001b[0m\u001b[1mCPU percall\u001b[0m\u001b[1m \u001b[0m┃\n",
              "┡━━━━━━━━━━━━━━━━━━━━━━━━━━━━╇━━━━━━━━━━━━╇━━━━━━━━━━━━━╇━━━━━━━━━━━━━╇━━━━━━━━━━━━╇━━━━━━━━━━━━━╇━━━━━━━━━━━━━┩\n",
              "│ DataFrame.__getitem__      │ 5          │ 0.016       │ 0.003       │ 0          │ 0.000       │ 0.000       │\n",
              "│ OpsMixin.__eq__            │ 2          │ 0.033       │ 0.017       │ 0          │ 0.000       │ 0.000       │\n",
              "│ DataFrame.__len__          │ 2          │ 0.000       │ 0.000       │ 0          │ 0.000       │ 0.000       │\n",
              "│ NDFrame.sample             │ 3          │ 0.030       │ 0.010       │ 0          │ 0.000       │ 0.000       │\n",
              "│ concat                     │ 1          │ 0.009       │ 0.009       │ 0          │ 0.000       │ 0.000       │\n",
              "│ DataFrame.reset_index      │ 1          │ 0.001       │ 0.001       │ 0          │ 0.000       │ 0.000       │\n",
              "│ IndexOpsMixin.value_counts │ 1          │ 0.017       │ 0.017       │ 0          │ 0.000       │ 0.000       │\n",
              "│ object.__str__             │ 1          │ 0.005       │ 0.005       │ 0          │ 0.000       │ 0.000       │\n",
              "└────────────────────────────┴────────────┴─────────────┴─────────────┴────────────┴─────────────┴─────────────┘\n"
            ],
            "text/html": [
              "<pre style=\"white-space:pre;overflow-x:auto;line-height:normal;font-family:Menlo,'DejaVu Sans Mono',consolas,'Courier New',monospace\"><span style=\"font-style: italic\">                                                                                                                </span>\n",
              "<span style=\"font-style: italic\">                                           Total time elapsed: 0.301 seconds                                    </span>\n",
              "<span style=\"font-style: italic\">                                         16 GPU function calls in 0.111 seconds                                 </span>\n",
              "<span style=\"font-style: italic\">                                         0 CPU function calls in 0.000 seconds                                  </span>\n",
              "<span style=\"font-style: italic\">                                                                                                                </span>\n",
              "<span style=\"font-style: italic\">                                                         Stats                                                  </span>\n",
              "<span style=\"font-style: italic\">                                                                                                                </span>\n",
              "┏━━━━━━━━━━━━━━━━━━━━━━━━━━━━┳━━━━━━━━━━━━┳━━━━━━━━━━━━━┳━━━━━━━━━━━━━┳━━━━━━━━━━━━┳━━━━━━━━━━━━━┳━━━━━━━━━━━━━┓\n",
              "┃<span style=\"font-weight: bold\"> Function                   </span>┃<span style=\"font-weight: bold\"> GPU ncalls </span>┃<span style=\"font-weight: bold\"> GPU cumtime </span>┃<span style=\"font-weight: bold\"> GPU percall </span>┃<span style=\"font-weight: bold\"> CPU ncalls </span>┃<span style=\"font-weight: bold\"> CPU cumtime </span>┃<span style=\"font-weight: bold\"> CPU percall </span>┃\n",
              "┡━━━━━━━━━━━━━━━━━━━━━━━━━━━━╇━━━━━━━━━━━━╇━━━━━━━━━━━━━╇━━━━━━━━━━━━━╇━━━━━━━━━━━━╇━━━━━━━━━━━━━╇━━━━━━━━━━━━━┩\n",
              "│ DataFrame.__getitem__      │ 5          │ 0.016       │ 0.003       │ 0          │ 0.000       │ 0.000       │\n",
              "│ OpsMixin.__eq__            │ 2          │ 0.033       │ 0.017       │ 0          │ 0.000       │ 0.000       │\n",
              "│ DataFrame.__len__          │ 2          │ 0.000       │ 0.000       │ 0          │ 0.000       │ 0.000       │\n",
              "│ NDFrame.sample             │ 3          │ 0.030       │ 0.010       │ 0          │ 0.000       │ 0.000       │\n",
              "│ concat                     │ 1          │ 0.009       │ 0.009       │ 0          │ 0.000       │ 0.000       │\n",
              "│ DataFrame.reset_index      │ 1          │ 0.001       │ 0.001       │ 0          │ 0.000       │ 0.000       │\n",
              "│ IndexOpsMixin.value_counts │ 1          │ 0.017       │ 0.017       │ 0          │ 0.000       │ 0.000       │\n",
              "│ object.__str__             │ 1          │ 0.005       │ 0.005       │ 0          │ 0.000       │ 0.000       │\n",
              "└────────────────────────────┴────────────┴─────────────┴─────────────┴────────────┴─────────────┴─────────────┘\n",
              "</pre>\n"
            ]
          },
          "metadata": {}
        }
      ]
    },
    {
      "cell_type": "code",
      "source": [
        "print(balanced_gdf.shape)\n",
        "X = balanced_gdf.drop('is_delayed', axis=1)\n",
        "y = balanced_gdf['is_delayed']"
      ],
      "metadata": {
        "colab": {
          "base_uri": "https://localhost:8080/"
        },
        "id": "W4P1zwl37Moy",
        "outputId": "e0943c98-4054-4da6-a083-0925fabe198f"
      },
      "execution_count": 27,
      "outputs": [
        {
          "output_type": "stream",
          "name": "stdout",
          "text": [
            "(1030578, 7)\n"
          ]
        }
      ]
    },
    {
      "cell_type": "markdown",
      "source": [
        "## 5. 🤖 Modeling"
      ],
      "metadata": {
        "id": "MOjyTnqN5iU4"
      }
    },
    {
      "cell_type": "code",
      "source": [
        "X_train, X_test, y_train, y_test = train_test_split(X, y, test_size=0.2, random_state=42)"
      ],
      "metadata": {
        "id": "SYItiJVM_g53"
      },
      "execution_count": 28,
      "outputs": []
    },
    {
      "cell_type": "code",
      "source": [
        "model = xgb.XGBClassifier(objective='binary:logistic', random_state=42, tree_method='gpu_hist')\n",
        "\n",
        "# Train the model\n",
        "model.fit(X_train, y_train)\n",
        "\n",
        "# Check if training happened on GPU\n",
        "print(f\"XGBoost trained on GPU: {model.get_booster().feature_names is not None}\")\n",
        "\n",
        "# Make predictions on the test set\n",
        "y_pred = model.predict(X_test)\n",
        "\n",
        "# Evaluate the model\n",
        "accuracy = accuracy_score(y_test, y_pred)\n",
        "print(f\"Accuracy: {accuracy}\")\n",
        "print(classification_report(y_test, y_pred))"
      ],
      "metadata": {
        "colab": {
          "base_uri": "https://localhost:8080/"
        },
        "id": "ElcagU7Q0leu",
        "outputId": "fecc2c18-f145-45a7-cabe-3830e4cac1a1"
      },
      "execution_count": 29,
      "outputs": [
        {
          "output_type": "stream",
          "name": "stderr",
          "text": [
            "/usr/local/lib/python3.11/dist-packages/xgboost/core.py:158: UserWarning: [15:55:25] WARNING: /workspace/src/common/error_msg.cc:27: The tree method `gpu_hist` is deprecated since 2.0.0. To use GPU training, set the `device` parameter to CUDA instead.\n",
            "\n",
            "    E.g. tree_method = \"hist\", device = \"cuda\"\n",
            "\n",
            "  warnings.warn(smsg, UserWarning)\n"
          ]
        },
        {
          "output_type": "stream",
          "name": "stdout",
          "text": [
            "XGBoost trained on GPU: True\n"
          ]
        },
        {
          "output_type": "stream",
          "name": "stderr",
          "text": [
            "/usr/local/lib/python3.11/dist-packages/xgboost/core.py:158: UserWarning: [15:55:26] WARNING: /workspace/src/common/error_msg.cc:27: The tree method `gpu_hist` is deprecated since 2.0.0. To use GPU training, set the `device` parameter to CUDA instead.\n",
            "\n",
            "    E.g. tree_method = \"hist\", device = \"cuda\"\n",
            "\n",
            "  warnings.warn(smsg, UserWarning)\n"
          ]
        },
        {
          "output_type": "stream",
          "name": "stdout",
          "text": [
            "Accuracy: 0.6030778784761979\n",
            "              precision    recall  f1-score   support\n",
            "\n",
            "           0       0.60      0.60      0.60    102957\n",
            "           1       0.60      0.61      0.60    103159\n",
            "\n",
            "    accuracy                           0.60    206116\n",
            "   macro avg       0.60      0.60      0.60    206116\n",
            "weighted avg       0.60      0.60      0.60    206116\n",
            "\n"
          ]
        }
      ]
    },
    {
      "cell_type": "code",
      "source": [
        "cm = confusion_matrix(y_test, y_pred)\n",
        "plt.figure(figsize=(8, 6))\n",
        "sns.heatmap(cm, annot=True, fmt='d', cmap='Blues',\n",
        "            xticklabels=['Not Delayed', 'Delayed'],\n",
        "            yticklabels=['Not Delayed', 'Delayed'])\n",
        "plt.title('Confusion Matrix')\n",
        "plt.xlabel('Predicted')\n",
        "plt.ylabel('Actual')\n",
        "plt.show()\n"
      ],
      "metadata": {
        "colab": {
          "base_uri": "https://localhost:8080/",
          "height": 564
        },
        "id": "H8LB-8w256pZ",
        "outputId": "52eb0326-3fd6-48b4-d8cb-1dafb6e42952"
      },
      "execution_count": 30,
      "outputs": [
        {
          "output_type": "display_data",
          "data": {
            "text/plain": [
              "<Figure size 800x600 with 2 Axes>"
            ],
            "image/png": "[encoded data removed]"
          },
          "metadata": {}
        }
      ]
    },
    {
      "cell_type": "code",
      "source": [
        "# Import necessary libraries\n",
        "from cuml.ensemble import RandomForestClassifier\n",
        "from cuml.linear_model import LogisticRegression\n",
        "from cuml.svm import SVC\n",
        "\n",
        "# Create and train different models\n",
        "models = {\n",
        "    \"RandomForest\": RandomForestClassifier(random_state=42),\n",
        "    \"LogisticRegression\": LogisticRegression(random_state=42),\n",
        "    \"SVC\": SVC(random_state=42)\n",
        "}\n",
        "\n",
        "results = {}\n",
        "for name, model in models.items():\n",
        "    print(f\"Training {name}...\")\n",
        "\n",
        "    # Measure time\n",
        "    start_time = time.time()\n",
        "\n",
        "    # Measure GPU memory before training\n",
        "    GPUs = GPUtil.getGPUs()\n",
        "    before_memory = GPUs[0].memoryUsed\n",
        "\n",
        "    model.fit(X_train, y_train)\n",
        "\n",
        "    # Measure GPU memory after training\n",
        "    after_memory = GPUs[0].memoryUsed\n",
        "\n",
        "    y_pred = model.predict(X_test)\n",
        "    accuracy = accuracy_score(y_test, y_pred)\n",
        "    results[name] = accuracy\n",
        "\n",
        "    # Calculate time taken\n",
        "    end_time = time.time()\n",
        "    time_taken = end_time - start_time\n",
        "\n",
        "    # Calculate memory used\n",
        "    memory_used = after_memory - before_memory\n",
        "\n",
        "    print(f\"{name} Accuracy: {accuracy}\")\n",
        "    print(f\"{name} Time taken: {time_taken:.2f} seconds\")\n",
        "    print(f\"{name} GPU memory used: {memory_used:.2f} MB\")\n",
        "    print(classification_report(y_test, y_pred))\n"
      ],
      "metadata": {
        "colab": {
          "base_uri": "https://localhost:8080/"
        },
        "id": "ntn_-V126Zz_",
        "outputId": "1aef40b1-4701-4d6c-98c3-0348606f4fa6"
      },
      "execution_count": 37,
      "outputs": [
        {
          "output_type": "stream",
          "name": "stdout",
          "text": [
            "[2025-04-20 16:14:48.800] [CUML] [info] Unused keyword parameter: random_state during cuML estimator initialization\n",
            "Training RandomForest...\n",
            "RandomForest Accuracy: 0.5985707077567971\n",
            "RandomForest Time taken: 5.09 seconds\n",
            "RandomForest GPU memory used: 0.00 MB\n",
            "              precision    recall  f1-score   support\n",
            "\n",
            "           0       0.61      0.57      0.58    102957\n",
            "           1       0.59      0.63      0.61    103159\n",
            "\n",
            "    accuracy                           0.60    206116\n",
            "   macro avg       0.60      0.60      0.60    206116\n",
            "weighted avg       0.60      0.60      0.60    206116\n",
            "\n",
            "Training LogisticRegression...\n",
            "LogisticRegression Accuracy: 0.5827980360573658\n",
            "LogisticRegression Time taken: 0.99 seconds\n",
            "LogisticRegression GPU memory used: 0.00 MB\n",
            "              precision    recall  f1-score   support\n",
            "\n",
            "           0       0.59      0.56      0.57    102957\n",
            "           1       0.58      0.60      0.59    103159\n",
            "\n",
            "    accuracy                           0.58    206116\n",
            "   macro avg       0.58      0.58      0.58    206116\n",
            "weighted avg       0.58      0.58      0.58    206116\n",
            "\n",
            "Training SVC...\n",
            "SVC Accuracy: 0.575355624987871\n",
            "SVC Time taken: 456.02 seconds\n",
            "SVC GPU memory used: 0.00 MB\n",
            "              precision    recall  f1-score   support\n",
            "\n",
            "           0       0.57      0.61      0.59    102957\n",
            "           1       0.58      0.55      0.56    103159\n",
            "\n",
            "    accuracy                           0.58    206116\n",
            "   macro avg       0.58      0.58      0.57    206116\n",
            "weighted avg       0.58      0.58      0.57    206116\n",
            "\n"
          ]
        }
      ]
    },
    {
      "cell_type": "markdown",
      "source": [
        "## 6. ✅ Evaluation"
      ],
      "metadata": {
        "id": "OP9cvrez5nNG"
      }
    },
    {
      "cell_type": "markdown",
      "source": [
        "We evaluate model performance using a confusion matrix."
      ],
      "metadata": {
        "id": "LagEDXLx5peO"
      }
    },
    {
      "cell_type": "code",
      "source": [
        "# Find the best model\n",
        "best_model_name = max(results, key=results.get)\n",
        "best_accuracy = results[best_model_name]\n",
        "print(f\"\\nBest Model: {best_model_name} with accuracy {best_accuracy}\")"
      ],
      "metadata": {
        "colab": {
          "base_uri": "https://localhost:8080/"
        },
        "id": "m3qFkyZW8WmT",
        "outputId": "26b9b972-b261-4551-861b-5e7729bf0b7e"
      },
      "execution_count": 38,
      "outputs": [
        {
          "output_type": "stream",
          "name": "stdout",
          "text": [
            "\n",
            "Best Model: RandomForest with accuracy 0.5985707077567971\n"
          ]
        }
      ]
    },
    {
      "cell_type": "code",
      "source": [],
      "metadata": {
        "id": "-SJ0NaI__0Tx"
      },
      "execution_count": null,
      "outputs": []
    }
  ]
}